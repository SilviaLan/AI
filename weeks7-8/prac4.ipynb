{
 "cells": [
  {
   "cell_type": "markdown",
   "metadata": {},
   "source": [
    "# Introduction to Artificial Intelligence for Non Computing"
   ]
  },
  {
   "cell_type": "markdown",
   "metadata": {},
   "source": [
    "## Practical 4 (weeks 7 - 8)"
   ]
  },
  {
   "cell_type": "markdown",
   "metadata": {},
   "source": [
    "#### Theory Questions"
   ]
  },
  {
   "cell_type": "markdown",
   "metadata": {},
   "source": [
    "1\\.Symbolize the following proposition and discuss the truth.\n",
    "1. Everyone has black hair.\n",
    "2. Some people boarded the moon.\n",
    "3. No one has boarded Jupiter\n",
    "4. Students studying in the US are not necessarily Asians."
   ]
  },
  {
   "cell_type": "markdown",
   "metadata": {},
   "source": [
    "_your answer here..._ \n",
    "1.False\n",
    "assume M(x) : x is a people.\n",
    "assume F(x) : x with black hair.\n",
    "Propositional symbolization as x(M(x)⇒F(x)) .\n",
    "assume a is a girl with blonde hair, then M(a) is true,F(a) is false.\n",
    "so M(a)⇒F(a) is false,\n",
    "Therefore Propositional is false.\n",
    "\n",
    "2.True\n",
    "assume G(x) : x boarded the moon.\n",
    "Propositional symbolization as x(M(x)∧G(x)).\n",
    "assume a is an American who completed the Apollo program on the moon in 1969.\n",
    "so M(a)∧G(a) is true.\n",
    "Therefore Propositional is true.\n",
    "\n",
    "3.True\n",
    "assume H(x) : x boarded the Jupiter.\n",
    "Propositional symbolization as ￢x(M(x)∧H(x)).\n",
    "No one has boarded Jupiter so far.\n",
    "assume anyone is a,then M(a) ∧H(a) of all is false.\n",
    "Therefore x(M(x)∧H(x)) is false.\n",
    "so Propositional is true.\n",
    "\n",
    "4.True\n",
    "assume F(x) : x is a student studying in the US.\n",
    "G(x) : x is Asian.\n",
    "Propositional symbolization as ￢x(F(x)⇒G(x)).\n",
    "Therefore Propositional is true.\n",
    "\n",
    "\n",
    "***"
   ]
  },
  {
   "cell_type": "markdown",
   "metadata": {},
   "source": [
    "2\\.Judge the following formula, which is tautology? What is the contradiction?\n",
    "1. ∀xF(x)⇒(∃x∃yG(x,y))⇒∀xF(x))\n",
    "2. ￢( ∀xF(x)⇒∃yG(y))∧∃yG(y)\n",
    "3. ∀x(F(x)⇒G(y))"
   ]
  },
  {
   "cell_type": "markdown",
   "metadata": {},
   "source": [
    "_your answer here..._ \n",
    "\n",
    "1.Tautology--- p⇒(q⇒p)\n",
    "2.Contradiction--- ￢p⇒(q⇒p)\n",
    "3.Non permanent satisfaction\n",
    "\n",
    "***"
   ]
  },
  {
   "cell_type": "markdown",
   "metadata": {},
   "source": [
    "3\\.Which of the following are correct?\n",
    "1. False |=True.\n",
    "2. (A ∧ B) |= (A ⇔ B).\n",
    "3. (A ∧ B) ⇒ C |= (A ⇒ C) ∨ (B ⇒ C).\n",
    "4. (A ∨ B) ∧ (￢C ∨￢D ∨ E) |= (A ∨ B).\n",
    "5. (A ∨ B) ∧ (￢C ∨￢D ∨ E) |= (A ∨ B) ∧ (￢D ∨ E)."
   ]
  },
  {
   "cell_type": "markdown",
   "metadata": {},
   "source": [
    "_your answer here..._ \n",
    "1.True\n",
    "False has no models and hence entails every sentence.\n",
    "And true is true in all models and hence is entailed by every sentence.\n",
    "\n",
    "2.True\n",
    "It can be proved directly.\n",
    "\n",
    "3.True\n",
    "The right-hand side is false only when both disjuctions are false, in which case the left-hand side is false.\n",
    "\n",
    "4.True\n",
    "Removing a conjunct only allows more models.\n",
    "\n",
    "5.False\n",
    "Removing a disjunct allows fewer models.\n",
    "\n",
    "***"
   ]
  },
  {
   "cell_type": "markdown",
   "metadata": {},
   "source": [
    "4\\.Conjunctive normal form.link:https://baike.baidu.com/item/%E5%90%88%E5%8F%96%E8%8C%83%E5%BC%8F/2459360\n",
    "1. Obtaining conjunctive paradigm: P∧(Q⇒R)⇒S\n",
    "#### Basic steps to find a conjunctive normal form.\n",
    "1. Cut redundant connectives，Reserved {∨，∧，￢}\n",
    "2. Move or remove the negation ~\n",
    "3. distribution rates"
   ]
  },
  {
   "cell_type": "markdown",
   "metadata": {},
   "source": [
    "_your answer here..._ \n",
    "P∧(Q⇒R)⇒S\n",
    "=￢(P∧(￢Q∨R))∨S\n",
    "=￢P∨￢(￢Q∨R)∨S\n",
    "=￢P∨(￢￢Q∧￢R)∨S\n",
    "=￢P∨(Q∧￢R)∨S\n",
    "=￢P∨S∨(Q∧￢R)\n",
    "=(￢P∨S∨Q)∧(￢P∨S∨￢R)\n",
    "\n",
    "***"
   ]
  },
  {
   "cell_type": "markdown",
   "metadata": {},
   "source": [
    "5\\.Arithmetic assertions can be written in first-order logic with the predicate symbol <,the function symbols + and ×, and the constant symbols 0 and 1. Additional   predicates can also be defined with biconditionals.(Chapter 8.20)\n",
    "1. Represent the property “x is an even number.”\n",
    "2. Represent the property “x is prime.”\n",
    "3. Goldbach’s conjecture is the conjecture (unproven as yet) that every even number is equal to the sum of two primes. Represent this conjecture as a logical sentence.\n"
   ]
  },
  {
   "cell_type": "markdown",
   "metadata": {},
   "source": [
    "_your answer here..._ \n",
    "1.∀ x, Even(x) ⇔ ∃ y, x = y + y.\n",
    "\n",
    "2.∀ x, Prime(x) ⇔ ∀ y,z, x = y×z ⇒ y = 1 ∨ z = 1.\n",
    "\n",
    "3.∀ x, Even(x) ⇒ ∃ y, z Prime(y)∧Prime(z) ∧ x = y + z.\n",
    "\n",
    "***"
   ]
  },
  {
   "cell_type": "markdown",
   "metadata": {},
   "source": [
    "### Programming Excercises"
   ]
  },
  {
   "cell_type": "markdown",
   "metadata": {},
   "source": [
    "1\\Please download the Pacman project from github,.there are two question need you to write about minimax algorithms and expectimax algorithms,then you will find one pdf,it's useful for you to solve the questions. named:prac4.pdf\n",
    "- this project named:prac4_alpha beta pruning_expectimax _algorithms_Multi-Agent Pacman"
   ]
  },
  {
   "cell_type": "markdown",
   "metadata": {},
   "source": [
    "2\\.Alpha Beta pruning on a Minimax tree.This is the tree we are working with tree = [[[5, 1, 2], [8, -8, -9]], [[9, 4, 5], [-3, 4, 3]]]\n",
    "(You can choose to do this question or not)\n",
    "- where\n",
    "- input is a list from input tree, see example in this file.\n",
    "- start is the root node number.  So, either 0 or 1 (0 if root is MAX, 1 if root is MIN)\n",
    "- upper is the upper limit for beta.  Set this to something higher than any value in your tree\n",
    "- lower is the lower limit for beta.  Set this to something less than any value in your tree\n",
    "- The function returns the root alpha and beta values, as well as the result, and the number of 'prunings' that took place.\n"
   ]
  },
  {
   "cell_type": "code",
   "execution_count": null,
   "metadata": {},
   "outputs": [],
   "source": [
    "## write your answer here!"
   ]
  }
 ],
 "metadata": {
  "kernelspec": {
   "display_name": "Python 3",
   "language": "python",
   "name": "python3"
  },
  "language_info": {
   "codemirror_mode": {
    "name": "ipython",
    "version": 3
   },
   "file_extension": ".py",
   "mimetype": "text/x-python",
   "name": "python",
   "nbconvert_exporter": "python",
   "pygments_lexer": "ipython3",
   "version": "3.6.5"
  }
 },
 "nbformat": 4,
 "nbformat_minor": 2
}
