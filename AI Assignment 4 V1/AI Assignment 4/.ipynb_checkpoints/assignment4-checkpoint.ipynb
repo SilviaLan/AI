{
 "cells": [
  {
   "cell_type": "markdown",
   "metadata": {},
   "source": [
    "## Assignment 4 (Intro to AI)"
   ]
  },
  {
   "cell_type": "markdown",
   "metadata": {},
   "source": [
    "Marks total is 12: Question 7 is worth 6 marks and the other questions are weighted equally (1 mark each)."
   ]
  },
  {
   "cell_type": "markdown",
   "metadata": {},
   "source": [
    "### Question 1: Dealing with data Pythonically"
   ]
  },
  {
   "cell_type": "code",
   "execution_count": 2,
   "metadata": {},
   "outputs": [],
   "source": [
    "# You might find these packages useful. You may import any others you want!\n",
    "import pandas as pd\n",
    "import numpy as np"
   ]
  },
  {
   "cell_type": "markdown",
   "metadata": {},
   "source": [
    "1\\. The file `\"data/ads_dataset.tsv\"` uses tabs instead of commas to separate fields. Load the data set `\"data/ads_dataset.tsv\"` into a Python `pandas` data frame called `ads`. If you are using the `read_csv()` function you will need to know that `\"\\t\"` means tab when trying to set the delimeter."
   ]
  },
  {
   "cell_type": "code",
   "execution_count": 3,
   "metadata": {},
   "outputs": [
    {
     "data": {
      "text/html": [
       "<div>\n",
       "<style scoped>\n",
       "    .dataframe tbody tr th:only-of-type {\n",
       "        vertical-align: middle;\n",
       "    }\n",
       "\n",
       "    .dataframe tbody tr th {\n",
       "        vertical-align: top;\n",
       "    }\n",
       "\n",
       "    .dataframe thead th {\n",
       "        text-align: right;\n",
       "    }\n",
       "</style>\n",
       "<table border=\"1\" class=\"dataframe\">\n",
       "  <thead>\n",
       "    <tr style=\"text-align: right;\">\n",
       "      <th></th>\n",
       "      <th>isbuyer</th>\n",
       "      <th>buy_freq</th>\n",
       "      <th>visit_freq</th>\n",
       "      <th>buy_interval</th>\n",
       "      <th>sv_interval</th>\n",
       "      <th>expected_time_buy</th>\n",
       "      <th>expected_time_visit</th>\n",
       "      <th>last_buy</th>\n",
       "      <th>last_visit</th>\n",
       "      <th>multiple_buy</th>\n",
       "      <th>multiple_visit</th>\n",
       "      <th>uniq_urls</th>\n",
       "      <th>num_checkins</th>\n",
       "      <th>y_buy</th>\n",
       "    </tr>\n",
       "  </thead>\n",
       "  <tbody>\n",
       "    <tr>\n",
       "      <th>NaN</th>\n",
       "      <td>0</td>\n",
       "      <td>NaN</td>\n",
       "      <td>1</td>\n",
       "      <td>0.0</td>\n",
       "      <td>0.0</td>\n",
       "      <td>0.0</td>\n",
       "      <td>0.0000</td>\n",
       "      <td>106</td>\n",
       "      <td>106</td>\n",
       "      <td>0</td>\n",
       "      <td>0</td>\n",
       "      <td>169</td>\n",
       "      <td>2130</td>\n",
       "      <td>0</td>\n",
       "    </tr>\n",
       "    <tr>\n",
       "      <th>NaN</th>\n",
       "      <td>0</td>\n",
       "      <td>NaN</td>\n",
       "      <td>1</td>\n",
       "      <td>0.0</td>\n",
       "      <td>0.0</td>\n",
       "      <td>0.0</td>\n",
       "      <td>0.0000</td>\n",
       "      <td>72</td>\n",
       "      <td>72</td>\n",
       "      <td>0</td>\n",
       "      <td>0</td>\n",
       "      <td>154</td>\n",
       "      <td>1100</td>\n",
       "      <td>0</td>\n",
       "    </tr>\n",
       "    <tr>\n",
       "      <th>NaN</th>\n",
       "      <td>0</td>\n",
       "      <td>NaN</td>\n",
       "      <td>1</td>\n",
       "      <td>0.0</td>\n",
       "      <td>0.0</td>\n",
       "      <td>0.0</td>\n",
       "      <td>0.0000</td>\n",
       "      <td>5</td>\n",
       "      <td>5</td>\n",
       "      <td>0</td>\n",
       "      <td>0</td>\n",
       "      <td>4</td>\n",
       "      <td>12</td>\n",
       "      <td>0</td>\n",
       "    </tr>\n",
       "    <tr>\n",
       "      <th>NaN</th>\n",
       "      <td>0</td>\n",
       "      <td>NaN</td>\n",
       "      <td>1</td>\n",
       "      <td>0.0</td>\n",
       "      <td>0.0</td>\n",
       "      <td>0.0</td>\n",
       "      <td>0.0000</td>\n",
       "      <td>6</td>\n",
       "      <td>6</td>\n",
       "      <td>0</td>\n",
       "      <td>0</td>\n",
       "      <td>150</td>\n",
       "      <td>539</td>\n",
       "      <td>0</td>\n",
       "    </tr>\n",
       "    <tr>\n",
       "      <th>NaN</th>\n",
       "      <td>0</td>\n",
       "      <td>NaN</td>\n",
       "      <td>2</td>\n",
       "      <td>0.0</td>\n",
       "      <td>0.5</td>\n",
       "      <td>0.0</td>\n",
       "      <td>-101.1493</td>\n",
       "      <td>101</td>\n",
       "      <td>101</td>\n",
       "      <td>0</td>\n",
       "      <td>1</td>\n",
       "      <td>103</td>\n",
       "      <td>362</td>\n",
       "      <td>0</td>\n",
       "    </tr>\n",
       "  </tbody>\n",
       "</table>\n",
       "</div>"
      ],
      "text/plain": [
       "     isbuyer  buy_freq  visit_freq  buy_interval  sv_interval  \\\n",
       "NaN        0       NaN           1           0.0          0.0   \n",
       "NaN        0       NaN           1           0.0          0.0   \n",
       "NaN        0       NaN           1           0.0          0.0   \n",
       "NaN        0       NaN           1           0.0          0.0   \n",
       "NaN        0       NaN           2           0.0          0.5   \n",
       "\n",
       "     expected_time_buy  expected_time_visit  last_buy  last_visit  \\\n",
       "NaN                0.0               0.0000       106         106   \n",
       "NaN                0.0               0.0000        72          72   \n",
       "NaN                0.0               0.0000         5           5   \n",
       "NaN                0.0               0.0000         6           6   \n",
       "NaN                0.0            -101.1493       101         101   \n",
       "\n",
       "     multiple_buy  multiple_visit  uniq_urls  num_checkins  y_buy  \n",
       "NaN             0               0        169          2130      0  \n",
       "NaN             0               0        154          1100      0  \n",
       "NaN             0               0          4            12      0  \n",
       "NaN             0               0        150           539      0  \n",
       "NaN             0               1        103           362      0  "
      ]
     },
     "execution_count": 3,
     "metadata": {},
     "output_type": "execute_result"
    }
   ],
   "source": [
    "# Place your code here\n",
    "ads = pd.read_csv(\"data/ads_dataset.tsv\",sep = '\\t')\n",
    "ads.head()"
   ]
  },
  {
   "cell_type": "markdown",
   "metadata": {},
   "source": [
    "2\\. Write a Python function called `getDfSummary()` that does the following:\n",
    "- Takes as input a data frame\n",
    "- Creates a new data frame called `output_data` that:\n",
    "  - Consists of the output of the `pandas` function `describe()`. (*Hint: Check the `pandas` [(manual page)](http://pandas.pydata.org/pandas-docs/stable/generated/pandas.DataFrame.describe.html) for this function if you want to learn more.*)\n",
    "  - The data frame `output_data` should have the original feature names from `input_data` as **rows**. (*Hint: Are they rows by default? If not, how could you make them rows?*)\n",
    "  - Adds a column called `spread` that is the result of subtracting the `min` from the `max`. (*Hint: What does the `describe()` function return? Do we have a column called `max` and `min`?*)\n",
    "- Returns the new `output_data` data frame."
   ]
  },
  {
   "cell_type": "code",
   "execution_count": 4,
   "metadata": {},
   "outputs": [],
   "source": [
    "def getDfSummary(input_data):\n",
    "    # Place your code here\n",
    "    output_data = input_data.describe()\n",
    "    output_data = output_data.T\n",
    "    output_data['spread'] = output_data['max']-output_data['min']\n",
    "\n",
    "    return output_data"
   ]
  },
  {
   "cell_type": "markdown",
   "metadata": {},
   "source": [
    "3\\. How long does it take for your `getDfSummary()` function to work on your `ads` data frame? Show us the results below.\n",
    "\n",
    "*Hint: `%timeit getDfSummary(ads)`*"
   ]
  },
  {
   "cell_type": "code",
   "execution_count": 5,
   "metadata": {},
   "outputs": [
    {
     "name": "stdout",
     "output_type": "stream",
     "text": [
      "85.3 ms ± 4.25 ms per loop (mean ± std. dev. of 7 runs, 1 loop each)\n"
     ]
    }
   ],
   "source": [
    "# Place your code here\n",
    "%timeit getDfSummary(ads)"
   ]
  },
  {
   "cell_type": "markdown",
   "metadata": {},
   "source": [
    "4\\. Show the output of the `getDfSummary()` function you created."
   ]
  },
  {
   "cell_type": "code",
   "execution_count": 6,
   "metadata": {},
   "outputs": [
    {
     "name": "stdout",
     "output_type": "stream",
     "text": [
      "                       count        mean          std       min    25%    50%  \\\n",
      "isbuyer              54584.0    0.042632     0.202027    0.0000    0.0    0.0   \n",
      "buy_freq              2327.0    1.240653     0.782228    1.0000    1.0    1.0   \n",
      "visit_freq           54584.0    1.852777     2.921820    0.0000    1.0    1.0   \n",
      "buy_interval         54584.0    0.210008     3.922016    0.0000    0.0    0.0   \n",
      "sv_interval          54584.0    5.825610    17.595442    0.0000    0.0    0.0   \n",
      "expected_time_buy    54584.0   -0.198040     4.997792 -181.9238    0.0    0.0   \n",
      "expected_time_visit  54584.0  -10.210786    31.879722 -187.6156    0.0    0.0   \n",
      "last_buy             54584.0   64.729335    53.476658    0.0000   18.0   51.0   \n",
      "last_visit           54584.0   64.729335    53.476658    0.0000   18.0   51.0   \n",
      "multiple_buy         54584.0    0.006357     0.079479    0.0000    0.0    0.0   \n",
      "multiple_visit       54584.0    0.277444     0.447742    0.0000    0.0    0.0   \n",
      "uniq_urls            54584.0   86.569343    61.969765   -1.0000   30.0   75.0   \n",
      "num_checkins         54584.0  720.657592  1275.727306    1.0000  127.0  319.0   \n",
      "y_buy                54584.0    0.004635     0.067924    0.0000    0.0    0.0   \n",
      "\n",
      "                            75%          max       spread  \n",
      "isbuyer                0.000000      1.00000      1.00000  \n",
      "buy_freq               1.000000     15.00000     14.00000  \n",
      "visit_freq             2.000000     84.00000     84.00000  \n",
      "buy_interval           0.000000    174.62500    174.62500  \n",
      "sv_interval            0.104167    184.91670    184.91670  \n",
      "expected_time_buy      0.000000     84.28571    266.20951  \n",
      "expected_time_visit    0.000000     91.40192    279.01752  \n",
      "last_buy             105.000000    188.00000    188.00000  \n",
      "last_visit           105.000000    188.00000    188.00000  \n",
      "multiple_buy           0.000000      1.00000      1.00000  \n",
      "multiple_visit         1.000000      1.00000      1.00000  \n",
      "uniq_urls            155.000000    206.00000    207.00000  \n",
      "num_checkins         802.000000  37091.00000  37090.00000  \n",
      "y_buy                  0.000000      1.00000      1.00000  \n"
     ]
    }
   ],
   "source": [
    "# Place your code here\n",
    "output = getDfSummary(ads)\n",
    "print(output)"
   ]
  },
  {
   "cell_type": "markdown",
   "metadata": {},
   "source": [
    "5\\. Using the results returned from `getDfSummary()`, which fields, if any, have a spread of 1? Full credit will be given for a code based approach that prints out the correct field names. Partial credit will be given if you simply manually explore the results of `getDfSummary()`. Print each field name on a line by itself."
   ]
  },
  {
   "cell_type": "code",
   "execution_count": 7,
   "metadata": {},
   "outputs": [
    {
     "name": "stdout",
     "output_type": "stream",
     "text": [
      "isbuyer\n",
      "multiple_buy\n",
      "multiple_visit\n",
      "y_buy\n"
     ]
    }
   ],
   "source": [
    "# Place your code here\n",
    "for index, row in getDfSummary(ads).iterrows():\n",
    "    if row['spread'] == 1:\n",
    "        print(row.name)"
   ]
  },
  {
   "cell_type": "markdown",
   "metadata": {},
   "source": [
    "6\\. For the fields that have a spread of 1, what percentage of records have the value of `1`? You may assume that if a field had a spread of 1 that it only has values 1 and 0.\n",
    "\n",
    "Full credit will be given for a code based approach that prints out the correct field names **and** their respective percentages. Partial credit will be given if you simply manually explore the results of `getDfSummary()`. (*Hint: Using the `pandas` function `.get_value()` may be useful if you happen to know the row and column name you want.*)\n",
    "\n",
    "Your results should look something like this:\n",
    "\n",
    "`The field` **`xxx`** `has` **`yyy`** `percent of its records set to 1.`"
   ]
  },
  {
   "cell_type": "code",
   "execution_count": 9,
   "metadata": {},
   "outputs": [
    {
     "name": "stdout",
     "output_type": "stream",
     "text": [
      "The field isbuyer has 4.26% of its records set to 1.\n",
      "The field multiple_buy has 0.64% of its records set to 1.\n",
      "The field multiple_visit has 27.74% of its records set to 1.\n",
      "The field y_buy has 0.46% of its records set to 1.\n"
     ]
    }
   ],
   "source": [
    "# Place your code here\n",
    "ans = []\n",
    "for index, row in getDfSummary(ads).iterrows():\n",
    "    if row['spread'] == 1:\n",
    "        ans.append(row.name)\n",
    "for i in ans:\n",
    "    counter = 0\n",
    "    for j in ads[i]:\n",
    "        if j == 1:\n",
    "            counter+=1\n",
    "    print(\"The field \" + i + \" has \"+\"{0:.2f}%\".format((counter/ads[i].count()) * 100)+ \" of its records set to 1.\")"
   ]
  },
  {
   "cell_type": "markdown",
   "metadata": {},
   "source": [
    "### Question 2. Functions, loops and plotting"
   ]
  },
  {
   "cell_type": "markdown",
   "metadata": {},
   "source": [
    "1\\. Write a function called `squared_less_100()` that takes a single number, squares it, and then returns the square minus 100."
   ]
  },
  {
   "cell_type": "code",
   "execution_count": 10,
   "metadata": {},
   "outputs": [],
   "source": [
    "def squared_less_100(input_number):\n",
    "    # Code here!\n",
    "    output_number = np.square(input_number)-100\n",
    "    return output_number"
   ]
  },
  {
   "cell_type": "markdown",
   "metadata": {},
   "source": [
    "2\\. Create three empty lists called `sl1_results`, `absolute_results`, `log_results`."
   ]
  },
  {
   "cell_type": "code",
   "execution_count": 11,
   "metadata": {},
   "outputs": [],
   "source": [
    "sl1_results =list()\n",
    "absolute_results =list()\n",
    "log_results =list()"
   ]
  },
  {
   "cell_type": "markdown",
   "metadata": {},
   "source": [
    "3\\. Create a list of integers from 1 to 20 (including both 1 and 20) called `original_set`. Loop through this list and apply your `squared_less_100()` function, the `numpy` function for finding absolute value, and the `numpy` natural log function. Store the result of each function by appending it the the initially empty lists you created in Part 4 Question 2. (*Hint: If you don't know what the `numpy` functions for absolute value or natural logs are, simply search online and it will be one of the first results. Although, you can probably guess what they would be!*)"
   ]
  },
  {
   "cell_type": "code",
   "execution_count": 12,
   "metadata": {},
   "outputs": [
    {
     "name": "stdout",
     "output_type": "stream",
     "text": [
      "[ 1  2  3  4  5  6  7  8  9 10 11 12 13 14 15 16 17 18 19 20]\n",
      "[-99, -96, -91, -84, -75, -64, -51, -36, -19, 0, 21, 44, 69, 96, 125, 156, 189, 224, 261, 300]\n",
      "[ 1  2  3  4  5  6  7  8  9 10 11 12 13 14 15 16 17 18 19 20]\n",
      "[0.         0.69314718 1.09861229 1.38629436 1.60943791 1.79175947\n",
      " 1.94591015 2.07944154 2.19722458 2.30258509 2.39789527 2.48490665\n",
      " 2.56494936 2.63905733 2.7080502  2.77258872 2.83321334 2.89037176\n",
      " 2.94443898 2.99573227]\n"
     ]
    }
   ],
   "source": [
    "# Code here!\n",
    "\n",
    "import numpy as np\n",
    "    # Code here!\n",
    "original_set = np.array(range(1,21))\n",
    "    \n",
    "\n",
    "for i in original_set:\n",
    "    sl1_results.append(squared_less_100(i))\n",
    "                        \n",
    "absolute_results = np.abs(original_set)\n",
    "log_results = np.log(original_set)\n",
    "                        \n",
    "print(original_set)\n",
    "print(sl1_results)\n",
    "print(absolute_results)\n",
    "print(log_results)"
   ]
  },
  {
   "cell_type": "markdown",
   "metadata": {},
   "source": [
    "4\\. Create a plot of your results. On the x-axis put `original_set`. Now, all within the **same plot** put a line for the `sl1_results`, a line for `absolute_results`, and a line for `log_results`. Don't forget to add a legend so that I know which line is for which set of results!"
   ]
  },
  {
   "cell_type": "code",
   "execution_count": 27,
   "metadata": {},
   "outputs": [
    {
     "data": {
      "image/png": "[encoded data removed]",
      "text/plain": [
       "<Figure size 432x288 with 1 Axes>"
      ]
     },
     "metadata": {},
     "output_type": "display_data"
    }
   ],
   "source": [
    "import matplotlib.pyplot as plt\n",
    "%matplotlib inline\n",
    "x = original_set\n",
    "\n",
    "plt.plot(x,sl1_results,label='original_set')\n",
    "plt.plot(x,absolute_results,label='absolute_results')\n",
    "plt.plot(x,log_results,label='log_results')\n",
    "\n",
    "plt.xlabel('original_set')\n",
    "plt.legend()\n",
    "plt.show()"
   ]
  },
  {
   "cell_type": "markdown",
   "metadata": {},
   "source": [
    "### Question 3. Modeling"
   ]
  },
  {
   "cell_type": "markdown",
   "metadata": {},
   "source": [
    "For this example we will be using the data/cell2cell.csv data. We will practice modelling a problem looking at the likelyhood of customers leaving a company (see below). The idea of this question is to go through the main steps to implement a solution in sklearn and observe similarities in implementing different algorithms.\n",
    "\n",
    "These historical data consist of 31,892 customers: 15,855 customers that churned (i.e., left the company) and 16,036 that did not churn. Here are the data set's 12 columns:\n",
    "\n",
    "Col.  Var. Name  Var. Description\n",
    "----- ---------- --------------------------------------------------------------\n",
    "1     revenue    Mean monthly revenue in dollars\n",
    "2     outcalls   Mean number of outbound voice calls\n",
    "3     incalls    Mean number of inbound voice calls\n",
    "4     months     Months in Service\n",
    "5     eqpdays    Number of days the customer has had his/her current equipment\n",
    "6     webcap     Handset is web capable\n",
    "7     marryyes   Married (1=Yes; 0=No)\n",
    "8     travel     Has traveled to non-US country (1=Yes; 0=No)\n",
    "9     pcown      Owns a personal computer (1=Yes; 0=No)\n",
    "10    creditcd   Possesses a credit card (1=Yes; 0=No)\n",
    "11    retcalls   Number of calls previously made to retention team\n",
    "12    churndep   Did the customer churn (1=Yes; 0=No)\n",
    "The first 11 columns are our attributes/features. The last column, \"churndep\", is the target variable.\n",
    "\n",
    "For this question apply any 3 machine learning algorithms that have covered in class (e.g. support vector machines, decision trees, logistic regression, nearest neighbour, neural network). Practice following the example and report your results for each algorithm in the form of:\n",
    "(1) accuracy in correctly predicting churn\n",
    "(2) a confusion matrix \n",
    "\n",
    "You can follow the template provided for coding. Notice we go through the same steps for each algorithm:\n",
    "- load data\n",
    "- create test and train data\n",
    "- instantiate model\n",
    "- train on training data examples\n",
    "- test on out sample data\n",
    "- review results\n"
   ]
  },
  {
   "cell_type": "code",
   "execution_count": 50,
   "metadata": {},
   "outputs": [
    {
     "name": "stdout",
     "output_type": "stream",
     "text": [
      "Decision Tree:\n",
      "[0.529153605015674, 0.5297068506035428, 0.5380434782608695, 0.5318648585090539, 0.5333625987708516, 0.5310164619806637, 0.535611897509407, 0.5323168580723553, 0.5347710960908647]\n",
      "Confusion Matrix:\n",
      "[[7878 6566]\n",
      " [6787 7471]]\n",
      "Logistic Regression:\n",
      "[0.5695924764890282, 0.558551497099859, 0.5628135451505016, 0.5650231245590656, 0.5613319954847611, 0.5578782336033447, 0.561234545780326, 0.5618312232979266, 0.5560239704550206]\n",
      "Confusion Matrix:\n",
      "[[8183 6261]\n",
      " [6482 7776]]\n",
      "SVC:\n",
      "[0.5163009404388714, 0.48675340962533314, 0.5034489966555183, 0.5021556792349299, 0.4945440862912329, 0.5062451006009929, 0.5359702562264828, 0.5053502136165876, 0.4982928018953383]\n",
      "Confusion Matrix:\n",
      "[[  153 14291]\n",
      " [  109 14149]]\n"
     ]
    }
   ],
   "source": [
    "import pandas as pd\n",
    "import matplotlib.pyplot as plt\n",
    "from sklearn.model_selection import train_test_split\n",
    "from sklearn.tree import DecisionTreeClassifier\n",
    "from sklearn.linear_model import LogisticRegression\n",
    "from sklearn.svm import LinearSVC\n",
    "from sklearn.metrics import accuracy_score\n",
    "from sklearn.metrics import confusion_matrix\n",
    "# % matplotlib inline\n",
    "\n",
    "# Read in our csv data\n",
    "data = pd.read_csv(\"data/cell2cell.csv\")\n",
    "\n",
    "# Put all features into X and the target variable into Y\n",
    "X = data.drop('churndep',axis = 1)\n",
    "Y = data['churndep']\n",
    "\n",
    "# Prepare to do some training and testing\n",
    "training_percentages = [0.10, 0.20, 0.30, 0.40, 0.50, 0.60, 0.70, 0.80, 0.90]\n",
    "tree_accuracies = []\n",
    "logistic_accuracies = []\n",
    "SVC_accuracies = []\n",
    "\n",
    "# Loop through your training percentages, split your data with each percentage,\n",
    "#  create both models, fit/train both models, predict with your models and\n",
    "#  append each accuracy to the correct list\n",
    "for training_percentage in training_percentages:\n",
    "    X_train,X_test,Y_train,Y_test = train_test_split(X,Y,test_size =training_percentage)\n",
    "\n",
    "    # Create both models\n",
    "    model1 = DecisionTreeClassifier()\n",
    "    model2 = LogisticRegression()\n",
    "    model3 = LinearSVC()\n",
    "    # Fit both model\n",
    "    model1.fit(X_train,Y_train)\n",
    "    model2.fit(X_train,Y_train)\n",
    "    model3.fit(X_train,Y_train)\n",
    "\n",
    "    # Get predictions from both models\n",
    "    Y_test_model1 = model1.predict(X_test)\n",
    "    Y_test_model2 = model2.predict(X_test)\n",
    "    Y_test_model3 = model3.predict(X_test)\n",
    "\n",
    "    # Get the accuracy for the models' predictions\n",
    "    tree_acc = accuracy_score(Y_test,Y_test_model1)\n",
    "    logistic_acc = accuracy_score(Y_test,Y_test_model2)\n",
    "    SVC_acc = accuracy_score(Y_test, Y_test_model3)\n",
    "\n",
    "\n",
    "    # Now that I have a tree and logistic accuracy, I should add them to my list of accuracies\n",
    "    tree_accuracies.append(tree_acc)\n",
    "    logistic_accuracies.append(logistic_acc)\n",
    "    SVC_accuracies.append(SVC_acc)\n",
    "\n",
    "# print accuracy and confusion matrix in a nicely formatted table\n",
    "    # get the confusion matrix\n",
    "#   confusion_matrix(...)\n",
    "con1=confusion_matrix(Y_test, Y_test_model1)      \n",
    "con2=confusion_matrix(Y_test, Y_test_model2)\n",
    "con3=confusion_matrix(Y_test, Y_test_model3)\n",
    "\n",
    "\n",
    "print(\"Decision Tree:\")\n",
    "print(tree_accuracies)\n",
    "print(\"Confusion Matrix:\")\n",
    "print(con1)\n",
    "\n",
    "print(\"Logistic Regression:\")\n",
    "print(logistic_accuracies)\n",
    "print(\"Confusion Matrix:\")\n",
    "print(con2)\n",
    "        \n",
    "\n",
    "print(\"SVC:\")\n",
    "print(SVC_accuracies)\n",
    "print(\"Confusion Matrix:\")\n",
    "print(con3)\n"
   ]
  },
  {
   "cell_type": "code",
   "execution_count": null,
   "metadata": {},
   "outputs": [],
   "source": []
  },
  {
   "cell_type": "markdown",
   "metadata": {},
   "source": [
    "### Question 4. Calculating Entropy and Information Gain"
   ]
  },
  {
   "cell_type": "markdown",
   "metadata": {},
   "source": [
    "Calculate entropy and information gain."
   ]
  },
  {
   "cell_type": "markdown",
   "metadata": {},
   "source": [
    "1\\. Consider this population. What is the entropy? \n",
    "<br /><img src=\"images/q5-1.png\" height=140px width=142px style=\"float: left\"/>"
   ]
  },
  {
   "cell_type": "code",
   "execution_count": null,
   "metadata": {},
   "outputs": [],
   "source": [
    "Entropy = -(4/10)*log2(4/10)-(6/10)*log2(6/10) = 0.97095"
   ]
  },
  {
   "cell_type": "markdown",
   "metadata": {},
   "source": [
    "Put your answer here and working out. No working out = no mark. This question has no coding."
   ]
  },
  {
   "cell_type": "markdown",
   "metadata": {},
   "source": [
    "3\\. Consider these possible splits at the top of a decision tree. Calculate the information gain obtained with Split A and Split B. Which split is better and why?\n",
    "<br /><img src=\"images/q5-a.png\" height=300px width=300px style=\"float: left; padding-right: 20px;\"/> <img src=\"images/q5-b.png\" height=300px width=300px style=\"float: left; padding-left: 20px\"/>"
   ]
  },
  {
   "cell_type": "markdown",
   "metadata": {},
   "source": [
    "Put your answer here and working out. No working out = no mark. This question has no coding."
   ]
  },
  {
   "cell_type": "code",
   "execution_count": null,
   "metadata": {},
   "outputs": [],
   "source": [
    "H0 = -(4/15)*log2(4/15)-(5/15)*log2(5/15)-(6/15)*log2(6/15) = 1.56560\n",
    "\n",
    "Spilt A:\n",
    "    H(left) = -(5/8)*log2(5/8)-(3/8)*log2(3/8) = 0.95443\n",
    "    H(right) = -(1/7)*log2(1/7)-(1/7)*log2(1/7)-(5/7)*log2(5/7) = 1.14883\n",
    "    H_A = (8/15)*H(left)+(7/15)*H(right) = 1.04515\n",
    "    IG_A = H0-H_A = 0.52045\n",
    "\n",
    "Spilt B:\n",
    "    H(left) = -(6/6)*log2(6/6) = 0\n",
    "    H(right) = -(4/9)*log2(4/9)-(5/9)*log2(5/9) = 0.99108\n",
    "    H_B = (6/15)*H(left)+(9/15)*H(right) = 0.59465\n",
    "    IG_B = H0-H_B = 0.97095\n",
    "\n",
    "IG_A<IG_B\n",
    "So spilt B is better."
   ]
  },
  {
   "cell_type": "markdown",
   "metadata": {},
   "source": [
    "### Question 5. Learning Curves"
   ]
  },
  {
   "cell_type": "markdown",
   "metadata": {},
   "source": [
    "For this example we will be using the `data/cell2cell.csv` data. It is a dataset to predict customer churn (chance of customer leaving a phone company) based on various inputs describing the customer and their usage of the service.\n",
    "\n",
    "These historical data consist of 31,892 customers: 15,855 customers that churned (i.e., left the company) and 16,036 that did not churn. Here are the data set's 12 columns:\n",
    "\n",
    "```\n",
    "Col.  Var. Name  Var. Description\n",
    "----- ---------- --------------------------------------------------------------\n",
    "1     revenue    Mean monthly revenue in dollars\n",
    "2     outcalls   Mean number of outbound voice calls\n",
    "3     incalls    Mean number of inbound voice calls\n",
    "4     months     Months in Service\n",
    "5     eqpdays    Number of days the customer has had his/her current equipment\n",
    "6     webcap     Handset is web capable\n",
    "7     marryyes   Married (1=Yes; 0=No)\n",
    "8     travel     Has traveled to non-US country (1=Yes; 0=No)\n",
    "9     pcown      Owns a personal computer (1=Yes; 0=No)\n",
    "10    creditcd   Possesses a credit card (1=Yes; 0=No)\n",
    "11    retcalls   Number of calls previously made to retention team\n",
    "12    churndep   Did the customer churn (1=Yes; 0=No)\n",
    "```\n",
    "\n",
    "The first 11 columns are our attributes/features. The last column, `\"churndep\"`, is the target variable."
   ]
  },
  {
   "cell_type": "markdown",
   "metadata": {},
   "source": [
    "Create a decision tree using entropy with no max depth and a logistic regression. \n",
    "\n",
    "In both cases assign 10% to 90% of the data to training (in increments of 10%) and the rest to test. \n",
    "\n",
    "For each training set,fit both models and then get the accuracy on the remaining data used for test. \n",
    "\n",
    "Lastly, create a plot:\n",
    "Where the x-axis includes 0.10 to 0.90 (one tick for each training data percentage) and the y-axis indicates accuracy. Your plot should have two lines/curves on it: one for the decision tree and one for logistic regression. \n",
    "\n",
    "You can use the following code template."
   ]
  },
  {
   "cell_type": "code",
   "execution_count": 35,
   "metadata": {},
   "outputs": [
    {
     "data": {
      "image/png": "[encoded data removed]",
      "text/plain": [
       "<Figure size 432x288 with 1 Axes>"
      ]
     },
     "metadata": {},
     "output_type": "display_data"
    }
   ],
   "source": [
    "import pandas as pd\n",
    "from sklearn.cross_validation import train_test_split\n",
    "from sklearn.tree import DecisionTreeClassifier\n",
    "from sklearn.linear_model import LogisticRegression\n",
    "from sklearn.metrics import accuracy_score\n",
    "import matplotlib.pylab as plt\n",
    "%matplotlib inline\n",
    "\n",
    "# Read in our csv data\n",
    "data = pd.read_csv('data/cell2cell.csv')\n",
    "\n",
    "# Put all features into X and the target variable into Y\n",
    "X = data.drop('churndep',axis = 1)\n",
    "Y = data['churndep']\n",
    "\n",
    "# Prepare to do some training and testing\n",
    "training_percentages = [0.10, 0.20, 0.30, 0.40, 0.50, 0.60, 0.70, 0.80, 0.90]\n",
    "tree_accuracies = []\n",
    "logistic_accuracies = []\n",
    "\n",
    "# Loop through your training percentages, split your data with each percentage, \n",
    "#  create both models, fit/train both models, predict with your models and \n",
    "#  append each accuracy to the correct list\n",
    "for training_percentage in training_percentages:\n",
    "    X_train,X_test,Y_train,Y_test = train_test_split(X,Y,test_size=training_percentage)\n",
    "    \n",
    "    # Create both models\n",
    "    tree = DecisionTreeClassifier()\n",
    "    logistic = LogisticRegression()\n",
    "    \n",
    "    # Fit both models\n",
    "    tree.fit(X_train,Y_train)\n",
    "    logistic.fit(X_train,Y_train)\n",
    "    \n",
    "    # Get predictions from both models\n",
    "    Y_test_predicted_tree = tree.predict(X_test)\n",
    "    Y_test_predicted_logistic = logistic.predict(X_test)\n",
    "\n",
    "    # Get the accuracy for the models' predictions\n",
    "    tree_acc = accuracy_score(Y_test,Y_test_predicted_tree)\n",
    "    logistic_acc = accuracy_score(Y_test,Y_test_predicted_logistic)\n",
    "    \n",
    "    # Now that I have a tree and logistic accuracy, I should add them to my list of accuracies\n",
    "    tree_accuracies.append(tree_acc)\n",
    "    logistic_accuracies.append(logistic_acc)\n",
    "    \n",
    "# Plot two curves on one plot. Don't forget labels and your legend\n",
    "plt.plot(training_percentages,tree_accuracies,label='Desicion Tree')\n",
    "plt.plot(training_percentages,logistic_accuracies,label = 'Logistic Regression')\n",
    "plt.xlabel('training percentage')\n",
    "plt.ylabel('accuracy')\n",
    "plt.legend()\n",
    "plt.show()"
   ]
  },
  {
   "cell_type": "markdown",
   "metadata": {},
   "source": [
    "What type of plot is this?\n",
    "\n",
    "Do you observe any interesting trends in the plot?"
   ]
  },
  {
   "cell_type": "markdown",
   "metadata": {},
   "source": [
    "put your answer here."
   ]
  },
  {
   "cell_type": "code",
   "execution_count": null,
   "metadata": {},
   "outputs": [],
   "source": [
    "It is a line plot. \n",
    "The two estimate have a similar trend and the accuracy of decision tree is always lower than that of logistic regression."
   ]
  },
  {
   "cell_type": "markdown",
   "metadata": {},
   "source": [
    "### Question 6. Cross Validation, Fitting Curves"
   ]
  },
  {
   "cell_type": "markdown",
   "metadata": {},
   "source": [
    "This question uses the same dataset as the previous question."
   ]
  },
  {
   "cell_type": "markdown",
   "metadata": {},
   "source": [
    "1. Review the below code which implements a decision and performs cross validation based on changing the max depth complexity parameter."
   ]
  },
  {
   "cell_type": "code",
   "execution_count": 9,
   "metadata": {},
   "outputs": [
    {
     "data": {
      "image/png": "[encoded data removed]",
      "text/plain": [
       "<matplotlib.figure.Figure at 0x29a2e81c780>"
      ]
     },
     "metadata": {},
     "output_type": "display_data"
    }
   ],
   "source": [
    "# Import pandas to read in data\n",
    "import pandas as pd\n",
    "import numpy as np\n",
    "\n",
    "# Import matplotlib for plotting\n",
    "import matplotlib.pylab as plt\n",
    "%matplotlib inline\n",
    "\n",
    "# Import decision trees and logistic regression\n",
    "from sklearn.tree import DecisionTreeClassifier\n",
    "\n",
    "# Import train, test, and evaluation functions\n",
    "from sklearn.metrics import accuracy_score\n",
    "from sklearn.cross_validation import cross_val_score\n",
    "\n",
    "# Read data using pandas\n",
    "data = pd.read_csv(\"data/cell2cell.csv\")\n",
    "\n",
    "# Split into X and Y\n",
    "X = data.drop(['churndep'], 1)\n",
    "Y = data['churndep']\n",
    "\n",
    "# try maximum depths from 1 to 20\n",
    "complexity_values = range(1,20)\n",
    "\n",
    "# empty list to hold my accuracies\n",
    "accuracies = []\n",
    "\n",
    "# go through each complexity_value one at a time.\n",
    "for complexity_value in complexity_values:\n",
    "    # This will create an empty tree with a specific maximum depth (complexity)\n",
    "    tree = DecisionTreeClassifier(criterion=\"entropy\", max_depth=complexity_value)\n",
    "    \n",
    "    # This will get us 10-fold cross validation accuracy with our tree and our data\n",
    "    # We can do this in one line!\n",
    "    cross_fold_accuracies = cross_val_score(tree, X, Y, scoring=\"accuracy\", cv=10)\n",
    "    \n",
    "    # Average accuracy\n",
    "    average_cross_fold_accuracy = np.mean(cross_fold_accuracies)\n",
    "    \n",
    "    # Append this accuracy to a list of accuracies\n",
    "    accuracies.append(average_cross_fold_accuracy)\n",
    "\n",
    "# We want to plot our results\n",
    "plt.plot(complexity_values, accuracies)\n",
    "plt.xlabel(\"Maximum Depth\")\n",
    "plt.ylabel(\"Accuracy\")\n",
    "plt.show()"
   ]
  },
  {
   "cell_type": "markdown",
   "metadata": {},
   "source": [
    "Given this analysis, what value would you set the decision tree max depth parameter to for new predictions and why?"
   ]
  },
  {
   "cell_type": "code",
   "execution_count": null,
   "metadata": {},
   "outputs": [],
   "source": [
    "answere here.\n",
    "The max depth parameter of the decision tree is about 2.5, as it is shown in the graph that the accuracy is highest at maximum depth of 2.5."
   ]
  },
  {
   "cell_type": "markdown",
   "metadata": {},
   "source": [
    "2\\. Change the code above to perform a similar analysis with other measures of complexity: max leaf nodes, max features, etc. Select 3 parameters and produce 3 charts showing the performance."
   ]
  },
  {
   "cell_type": "code",
   "execution_count": 36,
   "metadata": {},
   "outputs": [
    {
     "data": {
      "image/png": "[encoded data removed]",
      "text/plain": [
       "<Figure size 432x288 with 1 Axes>"
      ]
     },
     "metadata": {},
     "output_type": "display_data"
    }
   ],
   "source": [
    "#Put your answer here. (step 1 - copy the code from the previous question).\n",
    "\n",
    "### max leaf nodes\n",
    "\n",
    "# Import pandas to read in data\n",
    "import pandas as pd\n",
    "import numpy as np\n",
    "import matplotlib.pylab as plt\n",
    "from sklearn.tree import DecisionTreeClassifier\n",
    "\n",
    "from sklearn.metrics import accuracy_score\n",
    "from sklearn.cross_validation import cross_val_score\n",
    "%matplotlib inline\n",
    "\n",
    "\n",
    "# Read data using pandas\n",
    "data = pd.read_csv(\"data/cell2cell.csv\")\n",
    "\n",
    "# Split into X and Y\n",
    "X = data.drop(['churndep'], 1)\n",
    "Y = data['churndep']\n",
    "\n",
    "leaves = range(2,20)\n",
    "accuracies = []\n",
    "\n",
    "for leaf in leaves:\n",
    "    tree = DecisionTreeClassifier(criterion=\"entropy\",max_leaf_nodes=leaf)\n",
    "\n",
    "    cross_fold_accuracies = cross_val_score(tree, X, Y, scoring=\"accuracy\", cv=10)\n",
    "    average_cross_fold_accuracy = np.mean(cross_fold_accuracies)\n",
    "    accuracies.append(average_cross_fold_accuracy)\n",
    "\n",
    "plt.plot(leaves, accuracies)\n",
    "plt.xlabel(\"Max Leaf Nodes\")\n",
    "plt.ylabel(\"Accuracy\")\n",
    "plt.show()\n"
   ]
  },
  {
   "cell_type": "code",
   "execution_count": 40,
   "metadata": {},
   "outputs": [
    {
     "data": {
      "image/png": "[encoded data removed]",
      "text/plain": [
       "<Figure size 432x288 with 1 Axes>"
      ]
     },
     "metadata": {},
     "output_type": "display_data"
    }
   ],
   "source": [
    "### max features\n",
    "\n",
    "# Import pandas to read in data\n",
    "import pandas as pd\n",
    "import numpy as np\n",
    "import matplotlib.pylab as plt\n",
    "from sklearn.tree import DecisionTreeClassifier\n",
    "\n",
    "from sklearn.metrics import accuracy_score\n",
    "from sklearn.cross_validation import cross_val_score\n",
    "%matplotlib inline\n",
    "\n",
    "\n",
    "# Read data using pandas\n",
    "data = pd.read_csv(\"data/cell2cell.csv\")\n",
    "\n",
    "# Split into X and Y\n",
    "X = data.drop(['churndep'], 1)\n",
    "Y = data['churndep']\n",
    "\n",
    "features = range(1,10)\n",
    "accuracies = []\n",
    "\n",
    "for feature in features:\n",
    "    tree = DecisionTreeClassifier(criterion=\"entropy\",max_features=feature)\n",
    "\n",
    "    cross_fold_accuracies = cross_val_score(tree, X, Y, scoring=\"accuracy\", cv=10)\n",
    "    average_cross_fold_accuracy = np.mean(cross_fold_accuracies)\n",
    "    accuracies.append(average_cross_fold_accuracy)\n",
    "\n",
    "plt.plot(features, accuracies)\n",
    "plt.xlabel(\"Max Feature\")\n",
    "plt.ylabel(\"Accuracy\")\n",
    "plt.show()"
   ]
  },
  {
   "cell_type": "code",
   "execution_count": 46,
   "metadata": {},
   "outputs": [
    {
     "data": {
      "image/png": "[encoded data removed]",
      "text/plain": [
       "<Figure size 432x288 with 1 Axes>"
      ]
     },
     "metadata": {},
     "output_type": "display_data"
    }
   ],
   "source": [
    "### min sample spilt\n",
    "\n",
    "# Import pandas to read in data\n",
    "import pandas as pd\n",
    "import numpy as np\n",
    "import matplotlib.pylab as plt\n",
    "from sklearn.tree import DecisionTreeClassifier\n",
    "\n",
    "from sklearn.metrics import accuracy_score\n",
    "from sklearn.cross_validation import cross_val_score\n",
    "%matplotlib inline\n",
    "\n",
    "\n",
    "# Read data using pandas\n",
    "data = pd.read_csv(\"data/cell2cell.csv\")\n",
    "\n",
    "# Split into X and Y\n",
    "X = data.drop(['churndep'], 1)\n",
    "Y = data['churndep']\n",
    "\n",
    "splits = range(2,20)\n",
    "accuracies = []\n",
    "\n",
    "for split in splits:\n",
    "    tree = DecisionTreeClassifier(criterion=\"entropy\",min_samples_split=split)\n",
    "\n",
    "    cross_fold_accuracies = cross_val_score(tree, X, Y, scoring=\"accuracy\", cv=10)\n",
    "    average_cross_fold_accuracy = np.mean(cross_fold_accuracies)\n",
    "    accuracies.append(average_cross_fold_accuracy)\n",
    "\n",
    "plt.plot(splits, accuracies)\n",
    "plt.xlabel(\"Min Sample Split\")\n",
    "plt.ylabel(\"Accuracy\")\n",
    "plt.show()"
   ]
  },
  {
   "cell_type": "markdown",
   "metadata": {},
   "source": [
    "### Question 7. Implement 3 algorithms and optimise parameters"
   ]
  },
  {
   "cell_type": "markdown",
   "metadata": {},
   "source": [
    "3\\. This question requires you to implement additional machine learning methods and improve the performance of the decision tree we analysed in the last question. Look at nearest neighbour, logistic regression (see https://scikit-learn.org/stable/modules/generated/sklearn.linear_model.LogisticRegression.html), and support vector machine (see https://scikit-learn.org/stable/modules/generated/sklearn.svm.LinearSVC.html).\n",
    "\n",
    "Produce graphs showing the accuracy performance for different regularisation strengths - C parameter- in logistic regression and SVM. For nearest neighbours examine the value of k."
   ]
  },
  {
   "cell_type": "code",
   "execution_count": 59,
   "metadata": {},
   "outputs": [
    {
     "data": {
      "image/png": "[encoded data removed]",
      "text/plain": [
       "<Figure size 432x288 with 1 Axes>"
      ]
     },
     "metadata": {},
     "output_type": "display_data"
    }
   ],
   "source": [
    "#your code here. Grading based on correct implementation and approach as well as improving the previous result. \n",
    "# you need to use cross validation and accuracy to measure the performance (as in the previous example) and try to change \n",
    "#different appropriate parameters...\n",
    "\n",
    "### nearest neighbour\n",
    "\n",
    "# Import pandas to read in data\n",
    "import pandas as pd\n",
    "import numpy as np\n",
    "import matplotlib.pylab as plt\n",
    "from sklearn.neighbors import KNeighborsClassifier\n",
    "\n",
    "from sklearn.metrics import accuracy_score\n",
    "from sklearn.cross_validation import cross_val_score\n",
    "%matplotlib inline\n",
    "\n",
    "\n",
    "# Read data using pandas\n",
    "data = pd.read_csv(\"data/cell2cell.csv\")\n",
    "\n",
    "# Split into X and Y\n",
    "X = data.drop(['churndep'], 1)\n",
    "Y = data['churndep']\n",
    "\n",
    "k_numbers = range(1,50)\n",
    "accuracies = []\n",
    "\n",
    "for k in k_numbers:\n",
    "    tree = KNeighborsClassifier(n_neighbors=k)\n",
    "\n",
    "    cross_fold_accuracies = cross_val_score(tree, X, Y, scoring=\"accuracy\", cv=10)\n",
    "    average_cross_fold_accuracy = np.mean(cross_fold_accuracies)\n",
    "    accuracies.append(average_cross_fold_accuracy)\n",
    "\n",
    "plt.plot(k_numbers, accuracies)\n",
    "plt.xlabel(\"K\")\n",
    "plt.ylabel(\"Accuracy\")\n",
    "plt.show()"
   ]
  },
  {
   "cell_type": "code",
   "execution_count": null,
   "metadata": {},
   "outputs": [],
   "source": [
    "###logistic regression\n",
    "\n",
    "\n",
    "# Import pandas to read in data\n",
    "import pandas as pd\n",
    "import numpy as np\n",
    "import matplotlib.pylab as plt\n",
    "from sklearn.linear_model import LogisticRegression\n",
    "\n",
    "from sklearn.metrics import accuracy_score\n",
    "from sklearn.cross_validation import cross_val_score\n",
    "%matplotlib inline\n",
    "\n",
    "\n",
    "# Read data using pandas\n",
    "data = pd.read_csv(\"data/cell2cell.csv\")\n",
    "\n",
    "# Split into X and Y\n",
    "X = data.drop(['churndep'], 1)\n",
    "Y = data['churndep']\n",
    "\n",
    "C_parameters = range(1,20)\n",
    "accuracies = []\n",
    "\n",
    "for c in C_parameters:\n",
    "    tree = LogisticRegression(C = c)\n",
    "\n",
    "    cross_fold_accuracies = cross_val_score(tree, X, Y, scoring=\"accuracy\", cv=10)\n",
    "    average_cross_fold_accuracy = np.mean(cross_fold_accuracies)\n",
    "    accuracies.append(average_cross_fold_accuracy)\n",
    "\n",
    "plt.plot(C_parameters, accuracies)\n",
    "plt.xlabel(\"C-coefficient\")\n",
    "plt.ylabel(\"Accuracy\")\n",
    "plt.show()"
   ]
  },
  {
   "cell_type": "code",
   "execution_count": null,
   "metadata": {},
   "outputs": [],
   "source": [
    "###SVM\n",
    "# Import pandas to read in data\n",
    "import pandas as pd\n",
    "import numpy as np\n",
    "import matplotlib.pylab as plt\n",
    "from sklearn.svm import LinearSVC\n",
    "\n",
    "from sklearn.metrics import accuracy_score\n",
    "from sklearn.cross_validation import cross_val_score\n",
    "%matplotlib inline\n",
    "\n",
    "\n",
    "# Read data using pandas\n",
    "data = pd.read_csv(\"data/cell2cell.csv\")\n",
    "\n",
    "# Split into X and Y\n",
    "X = data.drop(['churndep'], 1)\n",
    "Y = data['churndep']\n",
    "\n",
    "C_parameters = range(1,20)\n",
    "accuracies = []\n",
    "\n",
    "for c in C_parameters:\n",
    "    tree = LinearSVC(C = c)\n",
    "\n",
    "    cross_fold_accuracies = cross_val_score(tree, X, Y, scoring=\"accuracy\", cv=10)\n",
    "    average_cross_fold_accuracy = np.mean(cross_fold_accuracies)\n",
    "    accuracies.append(average_cross_fold_accuracy)\n",
    "\n",
    "plt.plot(C_parameters, accuracies)\n",
    "plt.xlabel(\"C-coefficient\")\n",
    "plt.ylabel(\"Accuracy\")\n",
    "plt.show()\n"
   ]
  },
  {
   "cell_type": "code",
   "execution_count": null,
   "metadata": {},
   "outputs": [],
   "source": []
  }
 ],
 "metadata": {
  "kernelspec": {
   "display_name": "Python 3",
   "language": "python",
   "name": "python3"
  },
  "language_info": {
   "codemirror_mode": {
    "name": "ipython",
    "version": 3
   },
   "file_extension": ".py",
   "mimetype": "text/x-python",
   "name": "python",
   "nbconvert_exporter": "python",
   "pygments_lexer": "ipython3",
   "version": "3.6.5"
  }
 },
 "nbformat": 4,
 "nbformat_minor": 1
}
