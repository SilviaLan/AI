{
 "cells": [
  {
   "cell_type": "markdown",
   "metadata": {},
   "source": [
    "# Introduction to Artificial Intelligence for Non Computing"
   ]
  },
  {
   "cell_type": "markdown",
   "metadata": {},
   "source": [
    "## Practical 3 (weeks 5 - 6)"
   ]
  },
  {
   "cell_type": "markdown",
   "metadata": {},
   "source": [
    "The following links provide additional information about data analysis , machine learning and Numpy"
   ]
  },
  {
   "cell_type": "markdown",
   "metadata": {},
   "source": [
    "Python data analysis: https://www.imooc.com/learn/843\n",
    "machine learning: https://www.imooc.com/learn/717\n",
    "Numpy :https://www.imooc.com/learn/943"
   ]
  },
  {
   "cell_type": "markdown",
   "metadata": {},
   "source": [
    "#### Theory Questions"
   ]
  },
  {
   "cell_type": "markdown",
   "metadata": {},
   "source": [
    "1\\.Which of the following are true and which are false? Give brief explanations.\n",
    "- a. In a fully observable, turn-taking, zero-sum game between two perfectly rational players,it does not help the first player to know what strategy the second player is using—that is, what move the second player will make, given the first player's move.\n",
    "- b. In a partially observable, turn-taking, zero-sum game between two perfectly rational players, it does not help the first player to know what move the second player will make, given the first player's move.\n",
    "- c. A perfectly rational backgammon agent never loses.\n",
    "\n",
    "See textbook Chapter6 24.6"
   ]
  },
  {
   "cell_type": "markdown",
   "metadata": {},
   "source": [
    "_your answer here..._ \n",
    "\n",
    "(a) True. The second player will play optimally, and so is perfectly predictable up to ties. Knowing which of two equally good moves the opponent will make does not change the value of the game to the first player.\n",
    "\n",
    "(b) False. In a partially observable game, knowing the second player's move tells the first player additional information about the game state that would otherwise be available only to the second player.\n",
    "\n",
    "(c) False. Backgammon is a game of chance, and the opponent may consistently roll much better dice. The correct statement is that the expected winnings are optimal."
   ]
  },
  {
   "cell_type": "markdown",
   "metadata": {},
   "source": [
    "2\\.Define in your own words the terms constraint, backtracking search, arc consistency,backjumping, min-conflicts, and cycle cutset.\n",
    "\n",
    "See textbook Chapter6 6.16"
   ]
  },
  {
   "cell_type": "markdown",
   "metadata": {},
   "source": [
    "_your answer here..._ \n",
    "\n",
    "\n",
    "Constraint: A constraint is a restriction on the possible values of two or more variables.\n",
    "\n",
    "Backtracking search: Backtracking search is a kind of DFS. For a certain search tree, the main difference between it anf DFS is that backtracking method is not in the solution process. The complete tree structure is preserved, while the DFS records the complete search tree.\n",
    "\n",
    "Arc consistency: Adirected arc from variable A to variable B in a CSP, if there is some consistent valur of B for every valur in the current domain of A.\n",
    "\n",
    "Backjumping: A way of making backtracking search more efficient, by jumping back more than one level when a dead end is reached.\n",
    "\n",
    "Min-conflicts: A heurstic for use with local search on CSP problems,\n",
    "\n",
    "Cycle cutset: A set of variables which when removed from the constraint graph make it acyclic. When the variables of a cycle cutset are instantiated the remainder of the CSP can be solved in linear time."
   ]
  },
  {
   "cell_type": "markdown",
   "metadata": {},
   "source": [
    "3\\.Explain why it is a good heuristic to choose the variable that is most constrained but the value that is least constraining in a CSP search.\n",
    "\n",
    "See textbook Chapter6 6.9"
   ]
  },
  {
   "cell_type": "markdown",
   "metadata": {},
   "source": [
    "_your answer here..._ \n",
    "\n",
    "\n",
    "The most constrained variable makes sense because it chooses a variable that is likely to cause a failure, and it is more efficient to fall as early as possible. The least constraining value heuristic makes sense since it allows the most chances for future tasks to avoid conflict."
   ]
  },
  {
   "cell_type": "markdown",
   "metadata": {},
   "source": [
    "4\\.Consider the following procedure for choosing moves in games with chance nodes: \n",
    "- 1、Generate some dice-roll sequences (say, 50) down to a suitable depth (say, 8).\n",
    "- 2、With known dice rolls, the game tree becomes deterministic. For each dice-roll sequence,solve the resulting deterministic game tree using alpha-beta.\n",
    "- 3、Use the results to estimate the value of each move and to choose the best.Will this procedure work well? Why (or why not)?\n",
    "\n",
    "See textbook Chapter5 5.19"
   ]
  },
  {
   "cell_type": "markdown",
   "metadata": {},
   "source": [
    "_your answer here..._ \n",
    "\n",
    "\n",
    "The procedure will give incorrect results. Mathematically, the procedure amounts to assuming that averaging commutes with min and max, which it does not."
   ]
  },
  {
   "cell_type": "markdown",
   "metadata": {},
   "source": [
    "5\\. Now,please consider this game:  there are three plates A, B and C, each plate has three bills. A puts 1, 20, 50; B puts 5, 10, 100; C puts 1, 5, 20. All units are \"Yuan\". There are two persons A and B, and two of them can check out three plates and banknotes .（ A is ourself, The other is B）\n",
    "The game is divided into three steps: \n",
    "- 1、A select a plate from three plate.\n",
    "- 2、B take out two banknotes from A selected plate,and give the  banknotes to A.  \n",
    "- 3、A take one of the two banknotes, and take it away.among,A want to get the max banknotes, B want to let A to get the min.\n",
    "\n",
    "Try to understand the minimax algorithm，you can click the link:https://blog.csdn.net/tangchenyi/article/details/22920031"
   ]
  },
  {
   "cell_type": "markdown",
   "metadata": {},
   "source": [
    "_your answer here..._ \n",
    "\n",
    "If A choose A plate, B will choose 1, 20 and A will take 20.\n",
    "If A choose B plate, B will choose 5, 10 and A will take 10.\n",
    "If A choose C plate, B will choose 1, 5 and A will take 5.\n",
    "\n",
    "As a result, A should choose A plate to get maximum of 20.\n"
   ]
  },
  {
   "cell_type": "markdown",
   "metadata": {},
   "source": [
    "### Programming Excercises"
   ]
  },
  {
   "cell_type": "markdown",
   "metadata": {},
   "source": [
    "1\\. Guess number(Single number): please generate a randomly number  with the function (random), then ask someone to guess the number,I think we should give the corresponding hint, otherwise it will be very difficult to guess the number.the game will be over untill you get the right number."
   ]
  },
  {
   "cell_type": "code",
   "execution_count": 4,
   "metadata": {},
   "outputs": [
    {
     "name": "stdout",
     "output_type": "stream",
     "text": [
      "Please guess a number:6\n",
      "Guess smaller:5\n",
      "Guess smaller:4\n",
      "You win!\n"
     ]
    }
   ],
   "source": [
    "## write your answer here!\n",
    "\n",
    "import random\n",
    "\n",
    "num = random.randint(1,10)\n",
    "\n",
    "x = int(input(\"Please guess a number:\"))\n",
    "\n",
    "while(num != x):\n",
    "    if(x>9)or(x<1):\n",
    "        x = int(input(\"Please guess a single number:\"))\n",
    "    elif num<x:\n",
    "        x = int(input(\"Guess smaller:\"))\n",
    "    else:\n",
    "        x = int(input(\"Guess bigger:\"))\n",
    "\n",
    "print(\"You win!\")"
   ]
  },
  {
   "cell_type": "markdown",
   "metadata": {},
   "source": [
    "### 2\\.if you had understand the guess single number games,Congratulates,next is the guess three number games,Maybe you can do it well.But this is a different way of thinking. \n",
    "first : we need generate three numbers,there are most ten times chances give  you to guess the number,of course,we also give you some cue.\n",
    "\n",
    "- 'When I say:-->It means:\n",
    "- 'error--> The 3 numbers are not in the mystical numbers.'\n",
    "- 'Only the number is correct --> the number is right , but the position is not right.'\n",
    "- 'Absolutely right--> numbers is right and the position also right.'\n",
    "\n",
    "Maybe it's better for you to understand the rule well through see the picture.\n",
    "<div style=\"float:left;\" ><img src=\"img/p1.png\" width=\"400\" height=\"300\" >"
   ]
  },
  {
   "cell_type": "code",
   "execution_count": null,
   "metadata": {},
   "outputs": [],
   "source": [
    "## write your answer here!\n",
    "\n",
    "import numpy\n",
    "##3.2\n",
    "\n",
    "print(\"There are three numbers, please guess what it is.\")\n",
    "print(\"The clue I give is:\")\n",
    "print(\"When I say:-->It means:\")\n",
    "print(\"error--> The 3 numbers are not in the mystical numbers.\")\n",
    "print(\"Only the number is correct --> the number is right , but the position is not right.\")\n",
    "print(\"Absolutely right--> numbers is right and the position also right.\")\n",
    "print()\n",
    "\n",
    "num = numpy.array(numpy.random.randint(1,10,3))\n",
    "\n",
    "\n",
    "def isCorrectNum(a,b):\n",
    "    test = 1\n",
    "    for x in a:\n",
    "        if x not in b:\n",
    "            test =0\n",
    "    if test == 1:\n",
    "        return True\n",
    "    else:\n",
    "        return False\n",
    "\n",
    "def isCorrectPos(a,b):\n",
    "    for i in range(0,len(a)):\n",
    "        if a[i]!=b[i]:\n",
    "            return False\n",
    "    return True\n",
    "\n",
    "print(num)\n",
    "i = 1\n",
    "while i<11:\n",
    "    print(\"No.\"+str(i))\n",
    "    a = int(input(\"Guess the 1st number:\"))\n",
    "    b = int(input(\"Guess the 2nd number:\"))\n",
    "    c = int(input(\"Guess the 3rd number:\"))\n",
    "\n",
    "    x = numpy.array([a, b, c])\n",
    "    print(x)\n",
    "    if isCorrectPos(x,num):\n",
    "        print(\"Absolutely right\")\n",
    "        break\n",
    "    elif isCorrectNum(x,num):\n",
    "        print(\"Only the number is correct\")\n",
    "    else:\n",
    "        print(\"error\")\n",
    "    i += 1"
   ]
  },
  {
   "cell_type": "markdown",
   "metadata": {},
   "source": [
    "3\\.please try using Python's Tkinter to make a visual interface（GUI）.if you don't know anything.Maybe you can refer to the below interface.and implement it by code.\n",
    "\n",
    "<div style=\"float:left;\" ><img src=\"img/p2.png\" width=\"200\" height=\"200\" >"
   ]
  },
  {
   "cell_type": "code",
   "execution_count": null,
   "metadata": {},
   "outputs": [],
   "source": [
    "## write your answer here!\n",
    "#3.3\n",
    "from tkinter import *\n",
    "\n",
    "root = Tk(\"tk\")\n",
    "\n",
    "list1 = ['java','SQL','html','php','python','c']\n",
    "list2 = ['Bootstrap','jQuery','CSS']\n",
    "\n",
    "lb1 = Listbox(root)\n",
    "lb2 = Listbox(root)\n",
    "\n",
    "for i in list1:\n",
    "    lb1.insert(0,i)\n",
    "\n",
    "for i in list2:\n",
    "    lb2.insert(0,i)\n",
    "\n",
    "lb1.pack()\n",
    "lb2.pack()\n",
    "\n",
    "root.mainloop()"
   ]
  },
  {
   "cell_type": "markdown",
   "metadata": {},
   "source": [
    "4\\.Through the initial trial of Tkinter,    please write a simple calculator.\n",
    "\n",
    "<div style=\"float:left;\" ><img src=\"img/p3.png\" width=\"180\" height=\"200\" center=\"left\"></div>\n",
    "<div style=\"float:left;\" ><img src=\"img/p4.png\" width=\"180\" height=\"200\" center=\"right\" ></div>"
   ]
  },
  {
   "cell_type": "code",
   "execution_count": 2,
   "metadata": {},
   "outputs": [],
   "source": [
    "## write your answer here!\n",
    "#3.4\n",
    "import tkinter\n",
    "\n",
    "root = tkinter.Tk(\"Simple Calculator\")\n",
    "root.minsize(300,575)\n",
    "\n",
    "#show the result&calculation\n",
    "\n",
    "result = tkinter.StringVar()\n",
    "result.set(0)\n",
    "calculation = tkinter.StringVar()\n",
    "calculation.set('')\n",
    "\n",
    "#show the label\n",
    "label_result = tkinter.Label(root,font = ('Times New Roman', 20),bg = '#EEE9E9',bd ='9',fg = '#828282',anchor = 'se',textvariable = result)\n",
    "label_calculation = tkinter.Label(root,font = ('Times New Roman', 20),bg = '#EEE9E9',bd ='9',fg = '#828282',anchor = 'se',textvariable = calculation)\n",
    "\n",
    "label_result.place(y = 170,width = 300, height = 70)\n",
    "label_calculation.place(width = 300, height = 180)\n",
    "\n",
    "\n",
    "#show the number\n",
    "bt_0 = tkinter.Button(root,text = '0',font = ('Times New Roman',20),fg = ('#4F4F4F'),bd = 0.5,command = lambda : pressNum('0'))\n",
    "bt_1 = tkinter.Button(root,text = '1',font = ('Times New Roman',20),fg = ('#4F4F4F'),bd = 0.5,command = lambda : pressNum('1'))\n",
    "bt_2 = tkinter.Button(root,text = '2',font = ('Times New Roman',20),fg = ('#4F4F4F'),bd = 0.5,command = lambda : pressNum('2'))\n",
    "bt_3 = tkinter.Button(root,text = '3',font = ('Times New Roman',20),fg = ('#4F4F4F'),bd = 0.5,command = lambda : pressNum('3'))\n",
    "bt_4 = tkinter.Button(root,text = '4',font = ('Times New Roman',20),fg = ('#4F4F4F'),bd = 0.5,command = lambda : pressNum('4'))\n",
    "bt_5 = tkinter.Button(root,text = '5',font = ('Times New Roman',20),fg = ('#4F4F4F'),bd = 0.5,command = lambda : pressNum('5'))\n",
    "bt_6 = tkinter.Button(root,text = '6',font = ('Times New Roman',20),fg = ('#4F4F4F'),bd = 0.5,command = lambda : pressNum('6'))\n",
    "bt_7 = tkinter.Button(root,text = '7',font = ('Times New Roman',20),fg = ('#4F4F4F'),bd = 0.5,command = lambda : pressNum('7'))\n",
    "bt_8 = tkinter.Button(root,text = '8',font = ('Times New Roman',20),fg = ('#4F4F4F'),bd = 0.5,command = lambda : pressNum('8'))\n",
    "bt_9 = tkinter.Button(root,text = '9',font = ('Times New Roman',20),fg = ('#4F4F4F'),bd = 0.5,command = lambda : pressNum('9'))\n",
    "\n",
    "bt_7.place(x = 0,y = 315,width = 75,height = 65)\n",
    "bt_8.place(x = 75,y = 315,width = 75,height = 65)\n",
    "bt_9.place(x = 150,y = 315,width = 75,height = 65)\n",
    "bt_4.place(x = 0,y = 380,width = 75,height = 65)\n",
    "bt_5.place(x = 75,y = 380,width = 75,height = 65)\n",
    "bt_6.place(x = 150,y = 380,width = 75,height = 65)\n",
    "bt_3.place(x = 0,y = 445,width = 75,height = 65)\n",
    "bt_2.place(x = 75,y = 445,width = 75,height = 65)\n",
    "bt_1.place(x = 150,y = 445,width = 75,height = 65)\n",
    "bt_0.place(x = 75,y = 510,width = 75,height = 65)\n",
    "\n",
    "#show the sign\n",
    "bt_ac = tkinter.Button(root,text = 'AC',bd = 0.5,font = ('Times New Roman',20),fg = 'red',command = lambda :pressSign('AC'))\n",
    "bt_add = tkinter.Button(root,text = '+',bd = 0.5,font = ('Times New Roman',20),fg = 'black',command = lambda :pressSign('+'))\n",
    "bt_minus = tkinter.Button(root,text = '-',bd = 0.5,font = ('Times New Roman',20),fg = 'black',command = lambda :pressSign('-'))\n",
    "bt_multiply = tkinter.Button(root,text = 'x',bd = 0.5,font = ('Times New Roman',20),fg = 'black',command = lambda :pressSign('x'))\n",
    "bt_devide = tkinter.Button(root,text = '/',bd = 0.5,font = ('Times New Roman',20),fg = 'black',command = lambda :pressSign('/'))\n",
    "bt_delete = tkinter.Button(root,text = '←',bd = 0.5,font = ('Times New Roman',20),fg = 'black',command = lambda :pressSign('delete'))\n",
    "bt_point = tkinter.Button(root,text = '.',bd = 0.5,font = ('Times New Roman',20),fg = 'black',command = lambda :pressSign('.'))\n",
    "bt_equal = tkinter.Button(root,text = '=',bd = 0.5,bg = 'orange',font = ('Times New Roman',20),fg = 'black',command = lambda :pressEqual())\n",
    "\n",
    "bt_add.place(x = 0,y = 250,width = 75,height = 65)\n",
    "bt_minus.place(x = 75,y = 250,width = 75,height = 65)\n",
    "bt_multiply.place(x = 150,y = 250,width = 75,height = 65)\n",
    "bt_devide.place(x = 225,y = 250,width = 75,height = 65)\n",
    "\n",
    "bt_point.place(x = 150,y = 510,width = 75,height = 65)\n",
    "\n",
    "bt_delete.place(x = 225,y = 315,width = 75,height = 65)\n",
    "bt_ac.place(x = 225,y = 380,width = 75,height = 65)\n",
    "bt_equal.place(x = 225,y = 445,width = 75,height = 130)\n",
    "\n",
    "#Functions\n",
    "lists = []\n",
    "isSign = False\n",
    "isNum = False\n",
    "\n",
    "\n",
    "\n",
    "def pressNum(num):\n",
    "    global lists\n",
    "    global isSign\n",
    "    if not isSign:\n",
    "        pass\n",
    "    else:\n",
    "        result.set(0)\n",
    "        isSign = False\n",
    "\n",
    "    preNum = result.get()\n",
    "    if preNum == '0':\n",
    "        result.set(num)\n",
    "    else:\n",
    "        newNum = preNum + num\n",
    "        result.set(newNum)\n",
    "\n",
    "def pressSign(sign):\n",
    "    global lists\n",
    "    global isSign\n",
    "\n",
    "    num = result.get()\n",
    "    lists.append(num)\n",
    "    lists.append(sign)\n",
    "    isSign = True\n",
    "\n",
    "    if sign == 'AC':\n",
    "        lists.clear()\n",
    "        result.set(0)\n",
    "    if sign == 'delete':\n",
    "        curNum = num[0:-1]\n",
    "        lists.clear()\n",
    "        result.set(curNum)\n",
    "\n",
    "def pressEqual():\n",
    "    global lists\n",
    "    global isSign\n",
    "\n",
    "    curNum = result.get()\n",
    "    lists.append(curNum)\n",
    "\n",
    "    compute = ''.join(lists)\n",
    "    ans = eval(compute)\n",
    "    result.set(ans)\n",
    "    calculation.set(compute)\n",
    "    lists.clear()\n",
    "\n",
    "\n",
    "root.mainloop()\n"
   ]
  },
  {
   "cell_type": "markdown",
   "metadata": {},
   "source": [
    "5\\.Ball game:Python's pinball game, which can realize the game function of the keyboard control bottom baffle moving collision ball similar to table tennis game. \n",
    "\n",
    "<div style=\"float:left;\" ><img src=\"img/p5.png\" width=\"200\" height=\"200\" center=\"left\"></div>\n",
    "<div style=\"float:left;\" ><img src=\"img/p6.png\" width=\"200\" height=\"200\" center=\"right\" ></div>\n"
   ]
  },
  {
   "cell_type": "markdown",
   "metadata": {},
   "source": [
    "this is a step:how to install the matplotlib,you can reference this link:https://blog.csdn.net/not_give_up_/article/details/79058272\n",
    "1. Ball Class\n",
    "    draw is responsible for moving Ball\n",
    "    Collision detection, bounce, Ball detection of Paddle \n",
    "2. Paddle Class\n",
    "    draw is responsible for moving Paddle\n",
    "    Collision detection to determine whether or not to continue ,Monitor keyboard events\n",
    "3. main cycle\n",
    "    Drawing the Ball and Paddle"
   ]
  },
  {
   "cell_type": "code",
   "execution_count": null,
   "metadata": {},
   "outputs": [],
   "source": [
    "## write your answer here!\n",
    "#3.5\n",
    "from tkinter import *\n",
    "import random\n",
    "import matplotlib\n",
    "import time\n",
    "\n",
    "matplotlib.use('Agg')\n",
    "\n",
    "class Ball:\n",
    "  def __init__(self, canvas, paddle, color):\n",
    "    self.canvas = canvas\n",
    "    self.paddle = paddle\n",
    "    self.id = canvas.create_oval(10, 10, 25, 25, fill=color)\n",
    "    self.canvas.move(self.id, 245, 100)\n",
    "    startx = [-3, -2, -1, 1, 2, 3]\n",
    "    random.shuffle(startx)\n",
    "    self.x = startx[0]\n",
    "    self.y = -3\n",
    "    self.canvas_height = self.canvas.winfo_height()\n",
    "    self.canvas_width = self.canvas.winfo_width()\n",
    "    self.hit_bottom = False\n",
    "  def draw(self):\n",
    "    self.canvas.move(self.id, self.x, self.y)\n",
    "    pos = self.canvas.coords(self.id)#top-left bottom-right\n",
    "    if (pos[1] <= 0 or self.hit_paddle(pos) == True):\n",
    "      self.y = -self.y\n",
    "    if (pos[0] <= 0 or pos[2] >= self.canvas_width):\n",
    "      self.x = -self.x\n",
    "    if (pos[3] >= self.canvas_height):\n",
    "      self.hit_bottom = True\n",
    "  def hit_paddle(self, pos):\n",
    "    paddle_pos = self.canvas.coords(self.paddle.id)\n",
    "    if (pos[2] >= paddle_pos[0] and pos[0] <= paddle_pos[2]):\n",
    "      if (pos[3] >= paddle_pos[1] and pos[3] <= paddle_pos[3]):\n",
    "        return True\n",
    "    return False\n",
    "class Paddle:\n",
    "  def __init__(self, canvas, color):\n",
    "    self.canvas = canvas\n",
    "    self.id = canvas.create_rectangle(0, 0, 100, 10, fill = color)\n",
    "    self.x = 0\n",
    "    self.canvas.move(self.id, 200, 300)\n",
    "    self.canvas_width = self.canvas.winfo_width()\n",
    "    self.canvas.bind_all(\"<Key-Left>\", self.turn_left)\n",
    "    self.canvas.bind_all(\"<Key-Right>\", self.turn_right)\n",
    "  def draw(self):\n",
    "    pos = self.canvas.coords(self.id)\n",
    "    if (pos[0] + self.x >= 0 and pos[2] + self.x <= self.canvas_width):\n",
    "      self.canvas.move(self.id, self.x, 0)\n",
    "    #self.x = 0\n",
    "  def turn_left(self, event):\n",
    "    self.x = -4\n",
    "  def turn_right(self, event):\n",
    "    self.x = 4\n",
    "tk = Tk()\n",
    "tk.title(\"Game\")\n",
    "tk.resizable(0, 0)#not resizable\n",
    "tk.wm_attributes(\"-topmost\", 1)#at top\n",
    "canvas = Canvas(tk, width = 500, height = 500, bd = 0, highlightthickness = 0)\n",
    "canvas.pack()\n",
    "tk.update()#init\n",
    "paddle = Paddle(canvas, 'blue')\n",
    "ball = Ball(canvas, paddle, 'red')\n",
    "while 1:\n",
    "    ball.draw()\n",
    "    paddle.draw()\n",
    "    tk.update_idletasks()\n",
    "    tk.update()\n",
    "    time.sleep(0.015)\n"
   ]
  }
 ],
 "metadata": {
  "kernelspec": {
   "display_name": "Python 2",
   "language": "python",
   "name": "python2"
  },
  "language_info": {
   "codemirror_mode": {
    "name": "ipython",
    "version": 2
   },
   "file_extension": ".py",
   "mimetype": "text/x-python",
   "name": "python",
   "nbconvert_exporter": "python",
   "pygments_lexer": "ipython2",
   "version": "2.7.15"
  }
 },
 "nbformat": 4,
 "nbformat_minor": 2
}
