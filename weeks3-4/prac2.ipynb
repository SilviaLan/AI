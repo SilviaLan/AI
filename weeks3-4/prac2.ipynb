{
 "cells": [
  {
   "cell_type": "markdown",
   "metadata": {},
   "source": [
    "# Introduction to Artificial Intelligence for Non Computing"
   ]
  },
  {
   "cell_type": "markdown",
   "metadata": {},
   "source": [
    "## Practical 2 (weeks 3 - 4)"
   ]
  },
  {
   "cell_type": "markdown",
   "metadata": {},
   "source": [
    "## Search Techniques"
   ]
  },
  {
   "cell_type": "markdown",
   "metadata": {},
   "source": [
    "The following links provide additional information about depth first search and breath first search"
   ]
  },
  {
   "cell_type": "markdown",
   "metadata": {},
   "source": [
    "- Depth first search:   link：https://pan.baidu.com/s/1bkLHKKbSBNpfFuKwDyURqw  password：oy76\n",
    "- Breath first search:  link：https://pan.baidu.com/s/176g5q0W3rGbSAM5tZMraeg   password：7mdh"
   ]
  },
  {
   "cell_type": "markdown",
   "metadata": {},
   "source": [
    "#### Theory Questions "
   ]
  },
  {
   "cell_type": "markdown",
   "metadata": {},
   "source": [
    "1\\. What is an algorithm? A sequence of steps such as a recipe or a movie script.\n",
    "\n",
    "As a movie viewer, please write an algorithm for a process to \"see a movie\". Include details of the following for example (add additional information yourself):\n",
    "\t- The start conditions \n",
    "\t-- I want to watch a movie\n",
    "\t- Roles (people/actors involved) \n",
    "    --watcher, ticket seller etc \n",
    "    -Equipment required (\"props\")\n",
    "    --seats, ticket etc\n",
    "    - The scenes \n",
    "    -- scene 1 - buy ticket \n",
    "    -- ??? what happens next\n",
    "    -- scene 3, scene 3 ...\n",
    "    - Results/outcomes\n",
    "    -- ?\n"
   ]
  },
  {
   "cell_type": "markdown",
   "metadata": {},
   "source": [
    "_your answer here..._ \n",
    "--The start conditions\n",
    "--Goal: watch a movie\n",
    "--Company:\n",
    "    if have\n",
    "        decide which movie to see together\n",
    "    if not\n",
    "        decide by oneself\n",
    "--Ticket:\n",
    "    Buy the ticket with the best seat\n",
    "    if hungry\n",
    "        buy food\n",
    "    if thirsty\n",
    "        buy drinks\n",
    "--Transportation\n",
    "    Calculate the needed time for transportation\n",
    "    Leave home with plenty of time\n",
    "--Enjoy:\n",
    "    Get the ticket\n",
    "    if buy food or drinks\n",
    "        Get it(them)\n",
    "    Show the ticket to ticket-taker\n",
    "    Find the room and seat\n",
    "    Watch the movie\n",
    "***"
   ]
  },
  {
   "cell_type": "markdown",
   "metadata": {},
   "source": [
    "2\\. A farmer with his wolf, duck and bag of corn come to the east side of a river they wish to cross. There is a boat at the rivers edge, but of course only the farmer can row. The boat can only hold two things (including the rower) at any one time. If the wolf is ever left alone with the duck, the wolf will eat it. Similarly if the duck is ever left alone with the corn, the duck will eat it. How can the farmer get across the river so that all four arrive safely on the other side? "
   ]
  },
  {
   "cell_type": "markdown",
   "metadata": {},
   "source": [
    "_your answer here..._ \n",
    "Step 1:\n",
    "    Farmer takes the duck, cross the river and leave the duck.\n",
    "Step 2:\n",
    "    Farmer returns alone.\n",
    "Step 3:\n",
    "    Farmer takes the wolf, cross the river and leave the wolf.\n",
    "Step 4:\n",
    "    Farmer returns with the duck.\n",
    "Step 5:\n",
    "    Farmer takes the bag of corn, cross the river and leave the corn.\n",
    "Step 6:\n",
    "    Farmer returns alone.\n",
    "Step 7:\n",
    "    Farmer takes the duck, cross the river and leave the duck.    \n",
    "\n",
    "All 4 arrive safely on the other side.\n",
    "***"
   ]
  },
  {
   "cell_type": "markdown",
   "metadata": {},
   "source": [
    " "
   ]
  },
  {
   "cell_type": "markdown",
   "metadata": {},
   "source": [
    "3\\.Explain why we determine our problem goals before we write the problem formulation (including the model and deciding what algorithm or techniques to use - for example search, or other method).\n",
    "\n",
    "See Chapter3.1 (Russel & Norvig)"
   ]
  },
  {
   "cell_type": "markdown",
   "metadata": {},
   "source": [
    "_your answer here..._ \n",
    "Because problem formulation is the process of deciding what actions and states to consider, given a goal. In cases with a problem-solving agent, the agent will execute the solution sequence provided ignoring its percepts when choosing an action as it knows in advance what they will be. As a result, it is necessary to determine the goal before writing the problem formulation. Otherwise, we cannot know all the possible situation and would be unable to maximize its performance measure.\n",
    "****"
   ]
  },
  {
   "cell_type": "markdown",
   "metadata": {},
   "source": [
    "4\\. This question requires you to perform BFS and DFS on paper.\n",
    "\n",
    "<img src=\"img/p1.png\" width=\"180\" height=\"180\" >\n",
    "\n",
    "1. Simulate (on pencil-and-paper) breadth-first search starting from node A when the goal node is K.\n",
    "2. Simulate (on pencil-and-paper) depth first search starting from node A when the goal node is I.\n"
   ]
  },
  {
   "cell_type": "markdown",
   "metadata": {},
   "source": [
    "1. _your answer here..._ \n",
    "A[B] B[C,D] C[D,E,F] D[E,F,H,G] E[F,H,G] F[H,G] H[G,K,I] G[K,I] K = goal\n",
    "2. _your answer here..._ \n",
    "A[B] B[C,D] C[E,G,D] E[F,D] F[D] D[H,G] H[I,K,G] I = goal\n",
    "***"
   ]
  },
  {
   "cell_type": "markdown",
   "metadata": {},
   "source": [
    "5\\.Consider a state space where the start state is number 1 and each state  k has two successors: numbers 2k and 2k + 1.\n",
    "- a. Draw the portion of the state space for states 1 to 15.\n",
    "- b. Suppose the goal state is 11. List the order in which nodes will be visited for breadthfirst\n",
    "search, depth-limited search with limit 3, and iterative deepening search.\n",
    "- c. How well would bidirectional search work on this problem? What is the branching\n",
    "factor in each direction of the bidirectional search?\n",
    "- d. Does the answer to (c) suggest a reformulation of the problem that would allow you to\n",
    "solve the problem of getting from state 1 to a given goal state with almost no search?\n",
    "- e. Call the action going from k to 2k Left, and the action going to 2k + 1 Right. Can you\n",
    "find an algorithm that outputs the solution to this problem without any search at all?\n",
    "\n",
    "See textbook Chapter3.15"
   ]
  },
  {
   "cell_type": "markdown",
   "metadata": {},
   "source": [
    "_your answer here..._ \n",
    "a.              1\n",
    "           2         3\n",
    "         4   5      6    7\n",
    "       8  9  10 11   12 13  14 15\n",
    "b.Breadth-first 1 2 3 4 5 6 7 8 9 1O 11. \n",
    "    Depth-limited: 1 2 4 8 9 5 1O 11. \n",
    "    lterative deepening: 1; 1 2 3; 1 2 4 5 3 6 7;1 2 4 8 9 5 10 11\n",
    "c.Bidirectional search is very useful, because the only successor of n in the reverse direction is [(n/2)]. This helps focus the search. The branching factor is 2 in the forward direction; 1 in the reverse direction.\n",
    "d.Yes, start at the goal, and apply the single reverse successor action until you reach 1.\n",
    "e.The solution is therefore Left, Right, Right."
   ]
  },
  {
   "cell_type": "markdown",
   "metadata": {},
   "source": [
    "### Programming Excercises"
   ]
  },
  {
   "cell_type": "markdown",
   "metadata": {},
   "source": [
    "1\\.Write a program to solve a classic ancient Chinese puzzle:  \n",
    " We count 35 heads and 94 legs among the chickens and rabbits in a farm. How many rabbits and how many chickens do we have? "
   ]
  },
  {
   "cell_type": "code",
   "execution_count": 2,
   "metadata": {},
   "outputs": [
    {
     "name": "stdout",
     "output_type": "stream",
     "text": [
      "Rabbit:12  Chicken:23\n"
     ]
    }
   ],
   "source": [
    "##Hint:Use for loop to iterate all possible\n",
    "## write your answer here!\n",
    "\n",
    "for c in range(1,35):\n",
    "    r = 35-c\n",
    "    if 2*c+4*r ==94:\n",
    "        print(\"Rabbit:%d  Chicken:%d\"%(r,c))\n",
    "        break"
   ]
  },
  {
   "cell_type": "markdown",
   "metadata": {},
   "source": [
    "2\\. _Social networking_ Please look at the graph below of social relationships. You have a mango farm, you need to find a mango buyer and sell him your mango that you have grown (just a small farm). To this end, our principle is to use our social network of friends separated by one degree, and then second degree friends (friends of friends), third degree friends (friends of friends of friends).\n",
    "\n",
    "Use the depth first algorithm to search your network until you find a mango seller. \n",
    "\n",
    "We make an assumption that if the person's name ends with m, then it means the person must be the mango seller!\n",
    "\n",
    "\n",
    "<img src=\"img/p3.png\" width=\"500\" height=\"400\" >"
   ]
  },
  {
   "cell_type": "code",
   "execution_count": 5,
   "metadata": {},
   "outputs": [
    {
     "name": "stdout",
     "output_type": "stream",
     "text": [
      "thom is the mango seller\n"
     ]
    }
   ],
   "source": [
    "## write your answer here!\n",
    "node = ['you','bob','anuj','peppy','alice','claire','jonny','thom']\n",
    "N = [[0,1,0,0,1,1,0,0],\n",
    "    [0,0,1,1,0,0,0,0],\n",
    "    [0,0,0,0,0,0,0,0],\n",
    "    [0,0,0,0,0,0,0,0],\n",
    "    [0,0,0,1,0,0,0,0],\n",
    "    [0,0,0,0,0,0,1,1],\n",
    "    [0,0,0,0,0,0,0,0],\n",
    "    [0,0,0,0,0,0,0,0]]\n",
    "\n",
    "\n",
    "stack_ans = []\n",
    "stack_ans.append(0)\n",
    "\n",
    "stack_rec = []\n",
    "\n",
    "def dfs(stack):\n",
    "    while len(stack)>0:\n",
    "        tmp = stack.pop()\n",
    "        count = 0\n",
    "        if (node[tmp][len(node[tmp])-1]=='m'):\n",
    "            return node[tmp]\n",
    "        for i in N[tmp]:\n",
    "            if(i==1):\n",
    "                stack.append(count)\n",
    "                stack_rec.append(dfs(stack))\n",
    "                cur = stack_rec.pop()\n",
    "                if(cur[len(cur)-1]=='m'):\n",
    "                    return cur\n",
    "            count = count +1\n",
    "        return 'Nobody'\n",
    "    \n",
    "print(dfs(stack_ans)+\" is the mango seller\")"
   ]
  },
  {
   "cell_type": "markdown",
   "metadata": {},
   "source": [
    "3\\. Depth First traverse：Use depth first traversal to traverse all the DLL files on the C disk and output the file names.\n",
    "\n",
    "Update your code to search for a particular filename.\n",
    "\n",
    "What protocol did you use to select the next node to expand on the fringe?"
   ]
  },
  {
   "cell_type": "code",
   "execution_count": 66,
   "metadata": {
    "scrolled": true
   },
   "outputs": [
    {
     "name": "stdout",
     "output_type": "stream",
     "text": [
      "Traverse all the DLL files:\n",
      "dir:  outlook\n",
      "dir:  Printer\n",
      "file: TeamViewer_Resource_ar.dll\n",
      "file: TeamViewer_Resource_bg.dll\n",
      "file: TeamViewer_Resource_cs.dll\n",
      "file: TeamViewer_Resource_da.dll\n",
      "file: TeamViewer_Resource_de.dll\n",
      "file: TeamViewer_Resource_el.dll\n",
      "file: TeamViewer_Resource_en.dll\n",
      "file: TeamViewer_Resource_es.dll\n",
      "file: TeamViewer_Resource_fi.dll\n",
      "file: TeamViewer_Resource_fr.dll\n",
      "file: TeamViewer_Resource_he.dll\n",
      "file: TeamViewer_Resource_hr.dll\n",
      "file: TeamViewer_Resource_hu.dll\n",
      "file: TeamViewer_Resource_id.dll\n",
      "file: TeamViewer_Resource_it.dll\n",
      "file: TeamViewer_Resource_ja.dll\n",
      "file: TeamViewer_Resource_ko.dll\n",
      "file: TeamViewer_Resource_lt.dll\n",
      "file: TeamViewer_Resource_nl.dll\n",
      "file: TeamViewer_Resource_no.dll\n",
      "file: TeamViewer_Resource_pl.dll\n",
      "file: TeamViewer_Resource_pt.dll\n",
      "file: TeamViewer_Resource_ro.dll\n",
      "file: TeamViewer_Resource_ru.dll\n",
      "file: TeamViewer_Resource_sk.dll\n",
      "file: TeamViewer_Resource_sr.dll\n",
      "file: TeamViewer_Resource_sv.dll\n",
      "file: TeamViewer_Resource_th.dll\n",
      "file: TeamViewer_Resource_tr.dll\n",
      "file: TeamViewer_Resource_uk.dll\n",
      "file: TeamViewer_Resource_vi.dll\n",
      "file: TeamViewer_Resource_zhCN.dll\n",
      "file: TeamViewer_Resource_zhTW.dll\n",
      "file: TeamViewer_StaticRes.dll\n",
      "file: tv_w32.dll\n",
      "file: tv_x64.dll\n",
      "dir:  x64\n",
      "\n",
      "Search for a particular filename with tv_w32.dll:\n",
      "dir:  outlook\n",
      "dir:  Printer\n",
      "file: tv_w32.dll\n"
     ]
    },
    {
     "data": {
      "text/plain": [
       "0"
      ]
     },
     "execution_count": 66,
     "metadata": {},
     "output_type": "execute_result"
    }
   ],
   "source": [
    "## write your answer here!\n",
    "#there are too much .dll files in C disk, choose a smaller disk instead. \n",
    "\n",
    "import os\n",
    "target = ['.dll']\n",
    "stack1 = []\n",
    "stack1.append(\"C:\\Program Files (x86)\\TeamViewer\")\n",
    "\n",
    "def dfs_printAll(path):    \n",
    "    while len(stack1)>0:\n",
    "        filePath = stack1.pop()\n",
    "        fileList = os.listdir(filePath)\n",
    "        \n",
    "        for p in fileList:\n",
    "            absFilePath = os.path.join(filePath,p)\n",
    "            if os.path.isdir(absFilePath):\n",
    "                print(\"dir: \",p)\n",
    "                stack.append(absFilePath)\n",
    "                dfs_printAll(absFilePath)\n",
    "            else:\n",
    "                if os.path.splitext(p)[1] in target:\n",
    "                    print(\"file:\",p)  \n",
    "        return 0\n",
    "    \n",
    "stack2 = []\n",
    "stack2.append(\"C:\\Program Files (x86)\\TeamViewer\")  \n",
    "def dfs_printSpecific(path):\n",
    "    while len(stack2)>0:\n",
    "        filePath = stack2.pop()\n",
    "        fileList = os.listdir(filePath)\n",
    "        \n",
    "        for p in fileList:\n",
    "            absFilePath = os.path.join(filePath,p)\n",
    "            if os.path.isdir(absFilePath):\n",
    "                print(\"dir: \",p)\n",
    "                stack.append(absFilePath)\n",
    "                dfs_printAll(absFilePath)\n",
    "            else:\n",
    "                if p==\"tv_w32.dll\":\n",
    "                    print(\"file:\",p)  \n",
    "                    return 0\n",
    "                    \n",
    "print(\"Traverse all the DLL files:\")\n",
    "dfs_printAll(\"C:\\Program Files (x86)\\TeamViewer\")\n",
    "\n",
    "print()\n",
    "print(\"Search for a particular filename with tv_w32.dll:\")\n",
    "dfs_printSpecific(\"C:\\Program Files (x86)\\TeamViewer\")\n",
    "\n"
   ]
  },
  {
   "cell_type": "markdown",
   "metadata": {},
   "source": [
    "4\\.\n",
    "Breadth First traverse：Use breadth traversal to traverse all the DLL files on the C disk and output the filename.\n",
    "\n",
    "Update your code to search for a particular filename."
   ]
  },
  {
   "cell_type": "code",
   "execution_count": 53,
   "metadata": {
    "scrolled": true
   },
   "outputs": [
    {
     "name": "stdout",
     "output_type": "stream",
     "text": [
      "Traverse all the DLL files:\n",
      "dir:  outlook\n",
      "dir:  Printer\n",
      "file: TeamViewer_Resource_ar.dll\n",
      "file: TeamViewer_Resource_bg.dll\n",
      "file: TeamViewer_Resource_cs.dll\n",
      "file: TeamViewer_Resource_da.dll\n",
      "file: TeamViewer_Resource_de.dll\n",
      "file: TeamViewer_Resource_el.dll\n",
      "file: TeamViewer_Resource_en.dll\n",
      "file: TeamViewer_Resource_es.dll\n",
      "file: TeamViewer_Resource_fi.dll\n",
      "file: TeamViewer_Resource_fr.dll\n",
      "file: TeamViewer_Resource_he.dll\n",
      "file: TeamViewer_Resource_hr.dll\n",
      "file: TeamViewer_Resource_hu.dll\n",
      "file: TeamViewer_Resource_id.dll\n",
      "file: TeamViewer_Resource_it.dll\n",
      "file: TeamViewer_Resource_ja.dll\n",
      "file: TeamViewer_Resource_ko.dll\n",
      "file: TeamViewer_Resource_lt.dll\n",
      "file: TeamViewer_Resource_nl.dll\n",
      "file: TeamViewer_Resource_no.dll\n",
      "file: TeamViewer_Resource_pl.dll\n",
      "file: TeamViewer_Resource_pt.dll\n",
      "file: TeamViewer_Resource_ro.dll\n",
      "file: TeamViewer_Resource_ru.dll\n",
      "file: TeamViewer_Resource_sk.dll\n",
      "file: TeamViewer_Resource_sr.dll\n",
      "file: TeamViewer_Resource_sv.dll\n",
      "file: TeamViewer_Resource_th.dll\n",
      "file: TeamViewer_Resource_tr.dll\n",
      "file: TeamViewer_Resource_uk.dll\n",
      "file: TeamViewer_Resource_vi.dll\n",
      "file: TeamViewer_Resource_zhCN.dll\n",
      "file: TeamViewer_Resource_zhTW.dll\n",
      "file: TeamViewer_StaticRes.dll\n",
      "file: tv_w32.dll\n",
      "file: tv_x64.dll\n",
      "dir:  x64\n",
      "file: ManagedAggregator.dll\n",
      "file: TeamViewerMeetingAddIn.dll\n",
      "file: TeamViewerMeetingAddinShim.dll\n",
      "file: TeamViewerMeetingAddinShim64.dll\n",
      "dir:  x64\n",
      "file: TeamViewer_XPSDriverFilter.dll\n",
      "\n",
      "Search for a particular filename with tv_w32.dll:\n",
      "dir:  outlook\n",
      "dir:  Printer\n",
      "file: tv_w32.dll\n",
      "dir:  x64\n"
     ]
    }
   ],
   "source": [
    "## write your answer here!\n",
    "## write your answer here!\n",
    "#there are too much .dll files in C disk, choose a smaller disk instead. \n",
    "\n",
    "import os\n",
    "target = ['.dll']\n",
    "\n",
    "def bfs_printAll(path):\n",
    "    queue = []\n",
    "\n",
    "    queue.append(path)\n",
    "    \n",
    "    \n",
    "    while len(queue)>0:\n",
    "        filePath = queue.pop(0)\n",
    "        fileList = os.listdir(filePath)\n",
    "        \n",
    "        for p in fileList:\n",
    "            absFilePath = os.path.join(filePath,p)\n",
    "            if os.path.isdir(absFilePath):\n",
    "                print(\"dir: \",p)\n",
    "                queue.append(absFilePath)\n",
    "            else:\n",
    "                if os.path.splitext(p)[1] in target:\n",
    "                    print(\"file:\",p)\n",
    "                   \n",
    "def bfs_printSpecific(path):\n",
    "    queue = []\n",
    "\n",
    "    queue.append(path)\n",
    "    \n",
    "    \n",
    "    while len(queue)>0:\n",
    "        filePath = queue.pop(0)\n",
    "        fileList = os.listdir(filePath)\n",
    "        \n",
    "        for p in fileList:\n",
    "            absFilePath = os.path.join(filePath,p)\n",
    "            if os.path.isdir(absFilePath):\n",
    "                print(\"dir: \",p)\n",
    "                queue.append(absFilePath)\n",
    "            else:\n",
    "                if p==\"tv_w32.dll\":\n",
    "                    print(\"file:\",p)\n",
    "                    break\n",
    "                    \n",
    "print(\"Traverse all the DLL files:\")\n",
    "bfs_printAll(\"C:\\Program Files (x86)\\TeamViewer\")\n",
    "\n",
    "print()\n",
    "print(\"Search for a particular filename with tv_w32.dll:\")\n",
    "bfs_printSpecific(\"C:\\Program Files (x86)\\TeamViewer\")\n",
    "\n",
    "\n"
   ]
  },
  {
   "cell_type": "markdown",
   "metadata": {},
   "source": [
    "5\\. Uniform cost search"
   ]
  },
  {
   "cell_type": "markdown",
   "metadata": {},
   "source": [
    "Consider a state space where the start state is 2 and each state k has three successors: numbers 2k, 2k+1, 2k+2. The cost from state k to each respective child is k, ground(k/2), k+2.\n",
    "\n",
    "can you implement a uniform-cost-search algorithm with python. The goal state is number 85."
   ]
  },
  {
   "cell_type": "markdown",
   "metadata": {},
   "source": [
    "6\\.a* question"
   ]
  },
  {
   "cell_type": "markdown",
   "metadata": {},
   "source": [
    "A cute cat stays in the A position, he is hungry. But the food is placed in the B position. Can you help him to find the food? \n",
    "Hint:  The problem isn't easy. It's essential for you to understand the A* algorithm before you solve this problem. Then, you can use some thought of Node in java, when you are in code.\n",
    "\n",
    "<img src=\"img/p4.png\" width=\"500\" height=\"400\" >\n"
   ]
  },
  {
   "cell_type": "code",
   "execution_count": null,
   "metadata": {},
   "outputs": [],
   "source": [
    "## write your answer here!"
   ]
  }
 ],
 "metadata": {
  "kernelspec": {
   "display_name": "Python 3",
   "language": "python",
   "name": "python3"
  },
  "language_info": {
   "codemirror_mode": {
    "name": "ipython",
    "version": 3
   },
   "file_extension": ".py",
   "mimetype": "text/x-python",
   "name": "python",
   "nbconvert_exporter": "python",
   "pygments_lexer": "ipython3",
   "version": "3.6.5"
  }
 },
 "nbformat": 4,
 "nbformat_minor": 2
}
